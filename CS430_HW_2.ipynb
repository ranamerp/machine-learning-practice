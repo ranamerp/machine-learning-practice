{
  "nbformat": 4,
  "nbformat_minor": 0,
  "metadata": {
    "kernelspec": {
      "display_name": "Python 3",
      "language": "python",
      "name": "python3"
    },
    "language_info": {
      "codemirror_mode": {
        "name": "ipython",
        "version": 3
      },
      "file_extension": ".py",
      "mimetype": "text/x-python",
      "name": "python",
      "nbconvert_exporter": "python",
      "pygments_lexer": "ipython3",
      "version": "3.7.3"
    },
    "colab": {
      "name": "CS430 HW 2.ipynb",
      "provenance": [],
      "toc_visible": true
    }
  },
  "cells": [
    {
      "cell_type": "markdown",
      "metadata": {
        "id": "v0a7xtencrzp",
        "colab_type": "text"
      },
      "source": [
        "# CS 430 Homework 2\n",
        "This notebook is used to explore the Iris and Housing datasets, as well as answer questions relating to them. \n"
      ]
    },
    {
      "cell_type": "code",
      "metadata": {
        "id": "izNu8SLCceGL",
        "colab_type": "code",
        "colab": {}
      },
      "source": [
        "import pandas as pd\n",
        "import numpy\n",
        "from sklearn.model_selection import train_test_split\n",
        "from sklearn import tree\n",
        "import matplotlib.pyplot as plt"
      ],
      "execution_count": 0,
      "outputs": []
    },
    {
      "cell_type": "code",
      "metadata": {
        "id": "qs8T9kTqfNes",
        "colab_type": "code",
        "colab": {}
      },
      "source": [
        "import requests, zipfile, io\n",
        "r = requests.get(\"https://www.cs.siu.edu/~carver/cs434/hw2-original.zip\")\n",
        "z = zipfile.ZipFile(io.BytesIO(r.content))\n",
        "z.extractall()"
      ],
      "execution_count": 0,
      "outputs": []
    },
    {
      "cell_type": "markdown",
      "metadata": {
        "id": "XzvDZJ-ZceGP",
        "colab_type": "text"
      },
      "source": [
        "First, we need to turn the data into something useable."
      ]
    },
    {
      "cell_type": "code",
      "metadata": {
        "id": "DlP_oGbRceGP",
        "colab_type": "code",
        "colab": {}
      },
      "source": [
        "housingpath = \"housing.data\"\n",
        "irispath = \"iris.data\"\n",
        "\n",
        "def data_to_csv(path):\n",
        "    with open(path) as input_file:\n",
        "        lines = input_file.readlines()\n",
        "        newLines = []\n",
        "        for line in lines:\n",
        "            newLine = line.strip().split()\n",
        "            newLines.append(newLine)\n",
        "        return pd.DataFrame(newLines)\n",
        "    \n",
        "        \n",
        "\n",
        "\n",
        "housing = data_to_csv(housingpath)\n",
        "iris = pd.read_csv(irispath, header=None)"
      ],
      "execution_count": 0,
      "outputs": []
    },
    {
      "cell_type": "code",
      "metadata": {
        "id": "daL3fd8dceGS",
        "colab_type": "code",
        "colab": {}
      },
      "source": [
        "housingcol = [\"CRIM\", \"ZN\", \"INDUS\", \"CHAS\", \"NOX\", \"RM\", \"AGE\", \"DIS\", \"RAD\", \"TAX\", \"PTRATIO\", \"B\", \"LSTAT\", \"MEDV\"]\n",
        "iriscol = [\"Sepal Length\", \"Sepal Width\", \"Petal Length\", \"Petal Width\", \"Class\"]\n",
        "housing.columns = housingcol\n",
        "iris.columns = iriscol"
      ],
      "execution_count": 0,
      "outputs": []
    },
    {
      "cell_type": "markdown",
      "metadata": {
        "id": "y1aAMLRAdT2u",
        "colab_type": "text"
      },
      "source": [
        "# Iris Data:"
      ]
    },
    {
      "cell_type": "code",
      "metadata": {
        "id": "cF1JMaNOceGV",
        "colab_type": "code",
        "outputId": "96822e4d-41b7-4354-9071-af65104fdf61",
        "colab": {
          "base_uri": "https://localhost:8080/",
          "height": 359
        }
      },
      "source": [
        "iris.head(10)"
      ],
      "execution_count": 0,
      "outputs": [
        {
          "output_type": "execute_result",
          "data": {
            "text/html": [
              "<div>\n",
              "<style scoped>\n",
              "    .dataframe tbody tr th:only-of-type {\n",
              "        vertical-align: middle;\n",
              "    }\n",
              "\n",
              "    .dataframe tbody tr th {\n",
              "        vertical-align: top;\n",
              "    }\n",
              "\n",
              "    .dataframe thead th {\n",
              "        text-align: right;\n",
              "    }\n",
              "</style>\n",
              "<table border=\"1\" class=\"dataframe\">\n",
              "  <thead>\n",
              "    <tr style=\"text-align: right;\">\n",
              "      <th></th>\n",
              "      <th>Sepal Length</th>\n",
              "      <th>Sepal Width</th>\n",
              "      <th>Petal Length</th>\n",
              "      <th>Petal Width</th>\n",
              "      <th>Class</th>\n",
              "    </tr>\n",
              "  </thead>\n",
              "  <tbody>\n",
              "    <tr>\n",
              "      <th>0</th>\n",
              "      <td>5.1</td>\n",
              "      <td>3.5</td>\n",
              "      <td>1.4</td>\n",
              "      <td>0.2</td>\n",
              "      <td>Iris-setosa</td>\n",
              "    </tr>\n",
              "    <tr>\n",
              "      <th>1</th>\n",
              "      <td>4.9</td>\n",
              "      <td>3.0</td>\n",
              "      <td>1.4</td>\n",
              "      <td>0.2</td>\n",
              "      <td>Iris-setosa</td>\n",
              "    </tr>\n",
              "    <tr>\n",
              "      <th>2</th>\n",
              "      <td>4.7</td>\n",
              "      <td>3.2</td>\n",
              "      <td>1.3</td>\n",
              "      <td>0.2</td>\n",
              "      <td>Iris-setosa</td>\n",
              "    </tr>\n",
              "    <tr>\n",
              "      <th>3</th>\n",
              "      <td>4.6</td>\n",
              "      <td>3.1</td>\n",
              "      <td>1.5</td>\n",
              "      <td>0.2</td>\n",
              "      <td>Iris-setosa</td>\n",
              "    </tr>\n",
              "    <tr>\n",
              "      <th>4</th>\n",
              "      <td>5.0</td>\n",
              "      <td>3.6</td>\n",
              "      <td>1.4</td>\n",
              "      <td>0.2</td>\n",
              "      <td>Iris-setosa</td>\n",
              "    </tr>\n",
              "    <tr>\n",
              "      <th>5</th>\n",
              "      <td>5.4</td>\n",
              "      <td>3.9</td>\n",
              "      <td>1.7</td>\n",
              "      <td>0.4</td>\n",
              "      <td>Iris-setosa</td>\n",
              "    </tr>\n",
              "    <tr>\n",
              "      <th>6</th>\n",
              "      <td>4.6</td>\n",
              "      <td>3.4</td>\n",
              "      <td>1.4</td>\n",
              "      <td>0.3</td>\n",
              "      <td>Iris-setosa</td>\n",
              "    </tr>\n",
              "    <tr>\n",
              "      <th>7</th>\n",
              "      <td>5.0</td>\n",
              "      <td>3.4</td>\n",
              "      <td>1.5</td>\n",
              "      <td>0.2</td>\n",
              "      <td>Iris-setosa</td>\n",
              "    </tr>\n",
              "    <tr>\n",
              "      <th>8</th>\n",
              "      <td>4.4</td>\n",
              "      <td>2.9</td>\n",
              "      <td>1.4</td>\n",
              "      <td>0.2</td>\n",
              "      <td>Iris-setosa</td>\n",
              "    </tr>\n",
              "    <tr>\n",
              "      <th>9</th>\n",
              "      <td>4.9</td>\n",
              "      <td>3.1</td>\n",
              "      <td>1.5</td>\n",
              "      <td>0.1</td>\n",
              "      <td>Iris-setosa</td>\n",
              "    </tr>\n",
              "  </tbody>\n",
              "</table>\n",
              "</div>"
            ],
            "text/plain": [
              "   Sepal Length  Sepal Width  Petal Length  Petal Width        Class\n",
              "0           5.1          3.5           1.4          0.2  Iris-setosa\n",
              "1           4.9          3.0           1.4          0.2  Iris-setosa\n",
              "2           4.7          3.2           1.3          0.2  Iris-setosa\n",
              "3           4.6          3.1           1.5          0.2  Iris-setosa\n",
              "4           5.0          3.6           1.4          0.2  Iris-setosa\n",
              "5           5.4          3.9           1.7          0.4  Iris-setosa\n",
              "6           4.6          3.4           1.4          0.3  Iris-setosa\n",
              "7           5.0          3.4           1.5          0.2  Iris-setosa\n",
              "8           4.4          2.9           1.4          0.2  Iris-setosa\n",
              "9           4.9          3.1           1.5          0.1  Iris-setosa"
            ]
          },
          "metadata": {
            "tags": []
          },
          "execution_count": 5
        }
      ]
    },
    {
      "cell_type": "markdown",
      "metadata": {
        "id": "5TDxDjbDceGb",
        "colab_type": "text"
      },
      "source": [
        "First, let's focus on the Iris Dataset. We need to split the data before running algorithms on it."
      ]
    },
    {
      "cell_type": "code",
      "metadata": {
        "id": "ocWDrqmFceGc",
        "colab_type": "code",
        "colab": {}
      },
      "source": [
        "Y = iris.Class.values\n",
        "iris=iris.drop(\"Class\", axis = 1)\n",
        "X = iris.values"
      ],
      "execution_count": 0,
      "outputs": []
    },
    {
      "cell_type": "code",
      "metadata": {
        "id": "lJ8f2IfFceGe",
        "colab_type": "code",
        "colab": {}
      },
      "source": [
        "X_train, X_test, y_train, y_test = train_test_split(X, Y, random_state = 3)"
      ],
      "execution_count": 0,
      "outputs": []
    },
    {
      "cell_type": "markdown",
      "metadata": {
        "id": "hhG8WPSnceGi",
        "colab_type": "text"
      },
      "source": [
        "Now that the data is split, we can start to run the decision tree on it.\n",
        "(a) Run C5.0/See5 on the Iris dataset using the algorithm defaults. Draw the decision\n",
        "tree produced by C5.0/See5\n",
        "Scikit learn uses CART, an opitimized version of C4.5. This may result in some data being different than what would be outputted from directly running C5.0"
      ]
    },
    {
      "cell_type": "code",
      "metadata": {
        "id": "M3yw0aD4ceGj",
        "colab_type": "code",
        "outputId": "bb4a98ae-6a75-4c50-f928-167b3379f5b8",
        "colab": {
          "base_uri": "https://localhost:8080/",
          "height": 119
        }
      },
      "source": [
        "dtc = tree.DecisionTreeClassifier()\n",
        "dtc.fit(X_train, y_train)"
      ],
      "execution_count": 0,
      "outputs": [
        {
          "output_type": "execute_result",
          "data": {
            "text/plain": [
              "DecisionTreeClassifier(ccp_alpha=0.0, class_weight=None, criterion='gini',\n",
              "                       max_depth=None, max_features=None, max_leaf_nodes=None,\n",
              "                       min_impurity_decrease=0.0, min_impurity_split=None,\n",
              "                       min_samples_leaf=1, min_samples_split=2,\n",
              "                       min_weight_fraction_leaf=0.0, presort='deprecated',\n",
              "                       random_state=None, splitter='best')"
            ]
          },
          "metadata": {
            "tags": []
          },
          "execution_count": 8
        }
      ]
    },
    {
      "cell_type": "markdown",
      "metadata": {
        "id": "96EZ8odSceGl",
        "colab_type": "text"
      },
      "source": [
        "### (a) Run C5.0/See5 on the Iris dataset using the algorithm defaults. Draw the decision tree produced by C5.0/See5."
      ]
    },
    {
      "cell_type": "code",
      "metadata": {
        "id": "L9WuRac7ceGo",
        "colab_type": "code",
        "outputId": "f847a47d-d04f-4ea2-b12a-1b3dc28d9d08",
        "colab": {
          "base_uri": "https://localhost:8080/"
        }
      },
      "source": [
        "tree.plot_tree(dtc) "
      ],
      "execution_count": 0,
      "outputs": [
        {
          "output_type": "execute_result",
          "data": {
            "text/plain": [
              "[Text(133.92000000000002, 199.32, 'X[3] <= 0.8\\ngini = 0.666\\nsamples = 112\\nvalue = [35, 38, 39]'),\n",
              " Text(100.44000000000001, 163.07999999999998, 'gini = 0.0\\nsamples = 35\\nvalue = [35, 0, 0]'),\n",
              " Text(167.40000000000003, 163.07999999999998, 'X[3] <= 1.65\\ngini = 0.5\\nsamples = 77\\nvalue = [0, 38, 39]'),\n",
              " Text(66.96000000000001, 126.83999999999999, 'X[2] <= 4.95\\ngini = 0.139\\nsamples = 40\\nvalue = [0, 37, 3]'),\n",
              " Text(33.480000000000004, 90.6, 'gini = 0.0\\nsamples = 36\\nvalue = [0, 36, 0]'),\n",
              " Text(100.44000000000001, 90.6, 'X[1] <= 2.75\\ngini = 0.375\\nsamples = 4\\nvalue = [0, 1, 3]'),\n",
              " Text(66.96000000000001, 54.359999999999985, 'X[3] <= 1.55\\ngini = 0.5\\nsamples = 2\\nvalue = [0, 1, 1]'),\n",
              " Text(33.480000000000004, 18.119999999999976, 'gini = 0.0\\nsamples = 1\\nvalue = [0, 0, 1]'),\n",
              " Text(100.44000000000001, 18.119999999999976, 'gini = 0.0\\nsamples = 1\\nvalue = [0, 1, 0]'),\n",
              " Text(133.92000000000002, 54.359999999999985, 'gini = 0.0\\nsamples = 2\\nvalue = [0, 0, 2]'),\n",
              " Text(267.84000000000003, 126.83999999999999, 'X[2] <= 4.85\\ngini = 0.053\\nsamples = 37\\nvalue = [0, 1, 36]'),\n",
              " Text(234.36, 90.6, 'X[1] <= 3.1\\ngini = 0.444\\nsamples = 3\\nvalue = [0, 1, 2]'),\n",
              " Text(200.88000000000002, 54.359999999999985, 'gini = 0.0\\nsamples = 2\\nvalue = [0, 0, 2]'),\n",
              " Text(267.84000000000003, 54.359999999999985, 'gini = 0.0\\nsamples = 1\\nvalue = [0, 1, 0]'),\n",
              " Text(301.32000000000005, 90.6, 'gini = 0.0\\nsamples = 34\\nvalue = [0, 0, 34]')]"
            ]
          },
          "metadata": {
            "tags": []
          },
          "execution_count": 9
        },
        {
          "output_type": "display_data",
          "data": {
            "image/png": "[encoded data removed]",
            "text/plain": [
              "<Figure size 432x288 with 1 Axes>"
            ]
          },
          "metadata": {
            "tags": [],
            "needs_background": "light"
          }
        }
      ]
    },
    {
      "cell_type": "markdown",
      "metadata": {
        "id": "rkYfObf1ceGq",
        "colab_type": "text"
      },
      "source": [
        "### (b) What is the overall performance of the resulting DT on the training data (in terms of error rate)? I.e., how well does the DT predict the correct iris?"
      ]
    },
    {
      "cell_type": "code",
      "metadata": {
        "scrolled": false,
        "id": "J8WAhtYnceGr",
        "colab_type": "code",
        "outputId": "a9a94c3c-d155-4cff-d109-a44f42db14cf",
        "colab": {
          "base_uri": "https://localhost:8080/"
        }
      },
      "source": [
        "from sklearn.metrics import accuracy_score\n",
        "pred = dtc.predict(X_test)\n",
        "accuracy_score(y_test, pred) * 100"
      ],
      "execution_count": 0,
      "outputs": [
        {
          "output_type": "execute_result",
          "data": {
            "text/plain": [
              "97.36842105263158"
            ]
          },
          "metadata": {
            "tags": []
          },
          "execution_count": 10
        }
      ]
    },
    {
      "cell_type": "markdown",
      "metadata": {
        "id": "oBP9pl6GceGu",
        "colab_type": "text"
      },
      "source": [
        "### (c) Lookup the term confusion matrix on Wikipedia, and find it in the results of your training. What does the confusion matrix tell you about how errors are distributed among the various classes?\n"
      ]
    },
    {
      "cell_type": "code",
      "metadata": {
        "id": "mBgKB_q5ceGw",
        "colab_type": "code",
        "outputId": "32ccfd11-a407-430c-edaf-f56ee53edf07",
        "colab": {
          "base_uri": "https://localhost:8080/"
        }
      },
      "source": [
        "from sklearn.metrics import plot_confusion_matrix\n",
        "disp = plot_confusion_matrix(dtc, X_test, y_test,\n",
        "                            cmap=plt.cm.Blues)\n",
        "\n",
        "plt.show()"
      ],
      "execution_count": 0,
      "outputs": [
        {
          "output_type": "display_data",
          "data": {
            "image/png": "[encoded data removed]",
            "text/plain": [
              "<Figure size 432x288 with 2 Axes>"
            ]
          },
          "metadata": {
            "tags": [],
            "needs_background": "light"
          }
        }
      ]
    },
    {
      "cell_type": "markdown",
      "metadata": {
        "id": "d1n92oosceGz",
        "colab_type": "text"
      },
      "source": [
        "What this tells us is that the model was mostly accurate, with only 2 cases fooling the model. \n",
        "\n"
      ]
    },
    {
      "cell_type": "markdown",
      "metadata": {
        "id": "MQw9h9aZceGz",
        "colab_type": "text"
      },
      "source": [
        "### (d) Were all four Iris data attributes found to be equally useful? If not, which are most useful? Explain"
      ]
    },
    {
      "cell_type": "code",
      "metadata": {
        "id": "4LY8koO3ceGz",
        "colab_type": "code",
        "outputId": "08e2c6f0-802a-4ce5-a4cb-cb15d7d555e7",
        "colab": {
          "base_uri": "https://localhost:8080/"
        }
      },
      "source": [
        "iriscol.remove(\"Class\")\n",
        "print(pd.Series(dtc.feature_importances_, index = [iriscol]))\n",
        "iriscol.append(\"Class\")"
      ],
      "execution_count": 0,
      "outputs": [
        {
          "output_type": "stream",
          "text": [
            "Sepal Length    0.000000\n",
            "Sepal Width     0.024579\n",
            "Petal Length    0.062510\n",
            "Petal Width     0.912910\n",
            "dtype: float64\n"
          ],
          "name": "stdout"
        }
      ]
    },
    {
      "cell_type": "markdown",
      "metadata": {
        "id": "4CuTF8GOceG2",
        "colab_type": "text"
      },
      "source": [
        "As shown, the most useful class was Petal Width, and Sepal Length having no effect on the model whatsoever. "
      ]
    },
    {
      "cell_type": "markdown",
      "metadata": {
        "id": "uXmKwFs3ceG2",
        "colab_type": "text"
      },
      "source": [
        "### (e) The error rate is likely not zero (i.e., not 100% correct classification). Does that mean that decision tree learning has “failed?” Explain."
      ]
    },
    {
      "cell_type": "markdown",
      "metadata": {
        "id": "Vg7CRF7aceG3",
        "colab_type": "text"
      },
      "source": [
        "No. This means that the decision tree was successful. Although this data set is somewhat small, having 100% correct classification could mean that the model is overfitting. As such, it is good that the model has some error, as it means it is learning properally."
      ]
    },
    {
      "cell_type": "markdown",
      "metadata": {
        "id": "8o-eIWF7ceG3",
        "colab_type": "text"
      },
      "source": [
        "### (f) Now run C5.0/See5 but disable global pruning (e.g., -g option). Draw the decision tree that was obtained with pruning disabled."
      ]
    },
    {
      "cell_type": "markdown",
      "metadata": {
        "id": "vyKWctQAceG4",
        "colab_type": "text"
      },
      "source": [
        "There are no pruning options avaliable on scikit learn. However, some options we can use to lower the size of the tree include changing the criterion and the max_depth. "
      ]
    },
    {
      "cell_type": "code",
      "metadata": {
        "id": "EdgauRHHceG4",
        "colab_type": "code",
        "outputId": "0bb73337-2933-41d4-ed3f-e24653413e2c",
        "colab": {
          "base_uri": "https://localhost:8080/"
        }
      },
      "source": [
        "gini = tree.DecisionTreeClassifier(criterion='gini')\n",
        "gini.fit(X_train, y_train)\n",
        "pred = gini.predict(X_test)\n",
        "print('Criterion=gini', accuracy_score(y_test, pred) * 100)\n",
        "\n",
        "entropy = tree.DecisionTreeClassifier(criterion='entropy')\n",
        "entropy.fit(X_train, y_train)\n",
        "pred = entropy.predict(X_test)\n",
        "print('Criterion=entropy', accuracy_score(y_test, pred) * 100)"
      ],
      "execution_count": 0,
      "outputs": [
        {
          "output_type": "stream",
          "text": [
            "Criterion=gini 97.36842105263158\n",
            "Criterion=entropy 94.73684210526315\n"
          ],
          "name": "stdout"
        }
      ]
    },
    {
      "cell_type": "markdown",
      "metadata": {
        "id": "eUkTOudKceG7",
        "colab_type": "raw"
      },
      "source": [
        "Here we can see that entropy had the highest score. Let's tweak this model slightly more by reducing it's depth. In order to find the right depth, let's iterate to see which ones have the highest accuracy"
      ]
    },
    {
      "cell_type": "code",
      "metadata": {
        "id": "IQKLCB4cceG7",
        "colab_type": "code",
        "outputId": "9196a87c-54c4-4fd7-fdba-770b0956f5d5",
        "colab": {
          "base_uri": "https://localhost:8080/"
        }
      },
      "source": [
        "print(\"==ENTROPY==\")\n",
        "for i in range(1,10):\n",
        "    entropy = tree.DecisionTreeClassifier(criterion='entropy', max_depth = i)\n",
        "    entropy.fit(X_train, y_train)\n",
        "    pred = entropy.predict(X_test)\n",
        "    print('Criterion=entropy', accuracy_score(y_test, pred) * 100)\n",
        "    "
      ],
      "execution_count": 0,
      "outputs": [
        {
          "output_type": "stream",
          "text": [
            "==ENTROPY==\n",
            "Criterion=entropy 68.42105263157895\n",
            "Criterion=entropy 94.73684210526315\n",
            "Criterion=entropy 97.36842105263158\n",
            "Criterion=entropy 97.36842105263158\n",
            "Criterion=entropy 97.36842105263158\n",
            "Criterion=entropy 94.73684210526315\n",
            "Criterion=entropy 94.73684210526315\n",
            "Criterion=entropy 97.36842105263158\n",
            "Criterion=entropy 94.73684210526315\n"
          ],
          "name": "stdout"
        }
      ]
    },
    {
      "cell_type": "markdown",
      "metadata": {
        "id": "wXJCVw8rceG-",
        "colab_type": "text"
      },
      "source": [
        "With a depth of 3, we are able to reach 97% accuracy. This makes sense since our tree was not big anyway. "
      ]
    },
    {
      "cell_type": "code",
      "metadata": {
        "id": "5eZ-qmi5ceG_",
        "colab_type": "code",
        "outputId": "bb2157a1-9689-4a08-b2e2-67d0cab1d391",
        "colab": {
          "base_uri": "https://localhost:8080/"
        }
      },
      "source": [
        "dtc = tree.DecisionTreeClassifier(criterion='entropy', max_depth = 3, random_state = 543)\n",
        "dtc.fit(X_train, y_train)"
      ],
      "execution_count": 0,
      "outputs": [
        {
          "output_type": "execute_result",
          "data": {
            "text/plain": [
              "DecisionTreeClassifier(ccp_alpha=0.0, class_weight=None, criterion='entropy',\n",
              "                       max_depth=3, max_features=None, max_leaf_nodes=None,\n",
              "                       min_impurity_decrease=0.0, min_impurity_split=None,\n",
              "                       min_samples_leaf=1, min_samples_split=2,\n",
              "                       min_weight_fraction_leaf=0.0, presort='deprecated',\n",
              "                       random_state=543, splitter='best')"
            ]
          },
          "metadata": {
            "tags": []
          },
          "execution_count": 15
        }
      ]
    },
    {
      "cell_type": "code",
      "metadata": {
        "id": "p7vszCm4ceHB",
        "colab_type": "code",
        "outputId": "b605793e-0c76-428d-e054-f63c9f7d88f2",
        "colab": {
          "base_uri": "https://localhost:8080/"
        }
      },
      "source": [
        "tree.plot_tree(dtc)"
      ],
      "execution_count": 0,
      "outputs": [
        {
          "output_type": "execute_result",
          "data": {
            "text/plain": [
              "[Text(125.55000000000001, 190.26, 'X[3] <= 0.8\\nentropy = 1.583\\nsamples = 112\\nvalue = [35, 38, 39]'),\n",
              " Text(83.7, 135.9, 'entropy = 0.0\\nsamples = 35\\nvalue = [35, 0, 0]'),\n",
              " Text(167.4, 135.9, 'X[3] <= 1.65\\nentropy = 1.0\\nsamples = 77\\nvalue = [0, 38, 39]'),\n",
              " Text(83.7, 81.53999999999999, 'X[2] <= 4.95\\nentropy = 0.384\\nsamples = 40\\nvalue = [0, 37, 3]'),\n",
              " Text(41.85, 27.180000000000007, 'entropy = 0.0\\nsamples = 36\\nvalue = [0, 36, 0]'),\n",
              " Text(125.55000000000001, 27.180000000000007, 'entropy = 0.811\\nsamples = 4\\nvalue = [0, 1, 3]'),\n",
              " Text(251.10000000000002, 81.53999999999999, 'X[2] <= 4.85\\nentropy = 0.179\\nsamples = 37\\nvalue = [0, 1, 36]'),\n",
              " Text(209.25, 27.180000000000007, 'entropy = 0.918\\nsamples = 3\\nvalue = [0, 1, 2]'),\n",
              " Text(292.95, 27.180000000000007, 'entropy = 0.0\\nsamples = 34\\nvalue = [0, 0, 34]')]"
            ]
          },
          "metadata": {
            "tags": []
          },
          "execution_count": 16
        },
        {
          "output_type": "display_data",
          "data": {
            "image/png": "[encoded data removed]",
            "text/plain": [
              "<Figure size 432x288 with 1 Axes>"
            ]
          },
          "metadata": {
            "tags": [],
            "needs_background": "light"
          }
        }
      ]
    },
    {
      "cell_type": "markdown",
      "metadata": {
        "id": "EJX3r-4AceHF",
        "colab_type": "text"
      },
      "source": [
        "Now that we have verified the depth , we can change the max num of leaf nodes, and the min_sample leaf. Let's do testing there."
      ]
    },
    {
      "cell_type": "code",
      "metadata": {
        "id": "pXkwGPFKceHF",
        "colab_type": "code",
        "outputId": "80d88341-4f9e-4b76-e780-ee5b8f9359cb",
        "colab": {
          "base_uri": "https://localhost:8080/"
        }
      },
      "source": [
        "items = []\n",
        "for i in range(2,10):\n",
        "    for j in range(2,10):\n",
        "        maxleaf = tree.DecisionTreeClassifier(criterion='entropy', max_depth = 3, max_leaf_nodes=i, min_samples_leaf = j)\n",
        "        maxleaf.fit(X_train, y_train)\n",
        "        pred = maxleaf.predict(X_test)\n",
        "        item = [i,j, accuracy_score(y_test, pred) * 100]\n",
        "        items.append(item)\n",
        "items = pd.DataFrame.from_records(items, columns = [\"Max_Leaf\", \"Min_Samples\", \"Accuracy\"])\n",
        "items[\"rank\"] = items[\"Accuracy\"].rank(method='max')\n",
        "items.sort_values(by=\"rank\", ascending = False).head(20)\n"
      ],
      "execution_count": 0,
      "outputs": [
        {
          "output_type": "execute_result",
          "data": {
            "text/html": [
              "<div>\n",
              "<style scoped>\n",
              "    .dataframe tbody tr th:only-of-type {\n",
              "        vertical-align: middle;\n",
              "    }\n",
              "\n",
              "    .dataframe tbody tr th {\n",
              "        vertical-align: top;\n",
              "    }\n",
              "\n",
              "    .dataframe thead th {\n",
              "        text-align: right;\n",
              "    }\n",
              "</style>\n",
              "<table border=\"1\" class=\"dataframe\">\n",
              "  <thead>\n",
              "    <tr style=\"text-align: right;\">\n",
              "      <th></th>\n",
              "      <th>Max_Leaf</th>\n",
              "      <th>Min_Samples</th>\n",
              "      <th>Accuracy</th>\n",
              "      <th>rank</th>\n",
              "    </tr>\n",
              "  </thead>\n",
              "  <tbody>\n",
              "    <tr>\n",
              "      <th>32</th>\n",
              "      <td>6</td>\n",
              "      <td>2</td>\n",
              "      <td>97.368421</td>\n",
              "      <td>64.0</td>\n",
              "    </tr>\n",
              "    <tr>\n",
              "      <th>49</th>\n",
              "      <td>8</td>\n",
              "      <td>3</td>\n",
              "      <td>97.368421</td>\n",
              "      <td>64.0</td>\n",
              "    </tr>\n",
              "    <tr>\n",
              "      <th>40</th>\n",
              "      <td>7</td>\n",
              "      <td>2</td>\n",
              "      <td>97.368421</td>\n",
              "      <td>64.0</td>\n",
              "    </tr>\n",
              "    <tr>\n",
              "      <th>26</th>\n",
              "      <td>5</td>\n",
              "      <td>4</td>\n",
              "      <td>97.368421</td>\n",
              "      <td>64.0</td>\n",
              "    </tr>\n",
              "    <tr>\n",
              "      <th>25</th>\n",
              "      <td>5</td>\n",
              "      <td>3</td>\n",
              "      <td>97.368421</td>\n",
              "      <td>64.0</td>\n",
              "    </tr>\n",
              "    <tr>\n",
              "      <th>24</th>\n",
              "      <td>5</td>\n",
              "      <td>2</td>\n",
              "      <td>97.368421</td>\n",
              "      <td>64.0</td>\n",
              "    </tr>\n",
              "    <tr>\n",
              "      <th>41</th>\n",
              "      <td>7</td>\n",
              "      <td>3</td>\n",
              "      <td>97.368421</td>\n",
              "      <td>64.0</td>\n",
              "    </tr>\n",
              "    <tr>\n",
              "      <th>42</th>\n",
              "      <td>7</td>\n",
              "      <td>4</td>\n",
              "      <td>97.368421</td>\n",
              "      <td>64.0</td>\n",
              "    </tr>\n",
              "    <tr>\n",
              "      <th>18</th>\n",
              "      <td>4</td>\n",
              "      <td>4</td>\n",
              "      <td>97.368421</td>\n",
              "      <td>64.0</td>\n",
              "    </tr>\n",
              "    <tr>\n",
              "      <th>17</th>\n",
              "      <td>4</td>\n",
              "      <td>3</td>\n",
              "      <td>97.368421</td>\n",
              "      <td>64.0</td>\n",
              "    </tr>\n",
              "    <tr>\n",
              "      <th>33</th>\n",
              "      <td>6</td>\n",
              "      <td>3</td>\n",
              "      <td>97.368421</td>\n",
              "      <td>64.0</td>\n",
              "    </tr>\n",
              "    <tr>\n",
              "      <th>48</th>\n",
              "      <td>8</td>\n",
              "      <td>2</td>\n",
              "      <td>97.368421</td>\n",
              "      <td>64.0</td>\n",
              "    </tr>\n",
              "    <tr>\n",
              "      <th>16</th>\n",
              "      <td>4</td>\n",
              "      <td>2</td>\n",
              "      <td>97.368421</td>\n",
              "      <td>64.0</td>\n",
              "    </tr>\n",
              "    <tr>\n",
              "      <th>50</th>\n",
              "      <td>8</td>\n",
              "      <td>4</td>\n",
              "      <td>97.368421</td>\n",
              "      <td>64.0</td>\n",
              "    </tr>\n",
              "    <tr>\n",
              "      <th>56</th>\n",
              "      <td>9</td>\n",
              "      <td>2</td>\n",
              "      <td>97.368421</td>\n",
              "      <td>64.0</td>\n",
              "    </tr>\n",
              "    <tr>\n",
              "      <th>58</th>\n",
              "      <td>9</td>\n",
              "      <td>4</td>\n",
              "      <td>97.368421</td>\n",
              "      <td>64.0</td>\n",
              "    </tr>\n",
              "    <tr>\n",
              "      <th>57</th>\n",
              "      <td>9</td>\n",
              "      <td>3</td>\n",
              "      <td>97.368421</td>\n",
              "      <td>64.0</td>\n",
              "    </tr>\n",
              "    <tr>\n",
              "      <th>34</th>\n",
              "      <td>6</td>\n",
              "      <td>4</td>\n",
              "      <td>97.368421</td>\n",
              "      <td>64.0</td>\n",
              "    </tr>\n",
              "    <tr>\n",
              "      <th>54</th>\n",
              "      <td>8</td>\n",
              "      <td>8</td>\n",
              "      <td>94.736842</td>\n",
              "      <td>46.0</td>\n",
              "    </tr>\n",
              "    <tr>\n",
              "      <th>55</th>\n",
              "      <td>8</td>\n",
              "      <td>9</td>\n",
              "      <td>94.736842</td>\n",
              "      <td>46.0</td>\n",
              "    </tr>\n",
              "  </tbody>\n",
              "</table>\n",
              "</div>"
            ],
            "text/plain": [
              "    Max_Leaf  Min_Samples   Accuracy  rank\n",
              "32         6            2  97.368421  64.0\n",
              "49         8            3  97.368421  64.0\n",
              "40         7            2  97.368421  64.0\n",
              "26         5            4  97.368421  64.0\n",
              "25         5            3  97.368421  64.0\n",
              "24         5            2  97.368421  64.0\n",
              "41         7            3  97.368421  64.0\n",
              "42         7            4  97.368421  64.0\n",
              "18         4            4  97.368421  64.0\n",
              "17         4            3  97.368421  64.0\n",
              "33         6            3  97.368421  64.0\n",
              "48         8            2  97.368421  64.0\n",
              "16         4            2  97.368421  64.0\n",
              "50         8            4  97.368421  64.0\n",
              "56         9            2  97.368421  64.0\n",
              "58         9            4  97.368421  64.0\n",
              "57         9            3  97.368421  64.0\n",
              "34         6            4  97.368421  64.0\n",
              "54         8            8  94.736842  46.0\n",
              "55         8            9  94.736842  46.0"
            ]
          },
          "metadata": {
            "tags": []
          },
          "execution_count": 17
        }
      ]
    },
    {
      "cell_type": "markdown",
      "metadata": {
        "id": "QCJ0cstEceHI",
        "colab_type": "text"
      },
      "source": [
        "With our tests, we can choose which model would be best for us. "
      ]
    },
    {
      "cell_type": "code",
      "metadata": {
        "id": "t39YbOTEceHI",
        "colab_type": "code",
        "outputId": "05b30943-867d-4ec2-8c02-40a7488bf4eb",
        "colab": {
          "base_uri": "https://localhost:8080/"
        }
      },
      "source": [
        "dtc = tree.DecisionTreeClassifier(criterion='entropy', max_depth = 3, max_leaf_nodes=6, min_samples_leaf = 2, random_state = 69)\n",
        "dtc.fit(X_train, y_train)"
      ],
      "execution_count": 0,
      "outputs": [
        {
          "output_type": "execute_result",
          "data": {
            "text/plain": [
              "DecisionTreeClassifier(ccp_alpha=0.0, class_weight=None, criterion='entropy',\n",
              "                       max_depth=3, max_features=None, max_leaf_nodes=6,\n",
              "                       min_impurity_decrease=0.0, min_impurity_split=None,\n",
              "                       min_samples_leaf=2, min_samples_split=2,\n",
              "                       min_weight_fraction_leaf=0.0, presort='deprecated',\n",
              "                       random_state=69, splitter='best')"
            ]
          },
          "metadata": {
            "tags": []
          },
          "execution_count": 18
        }
      ]
    },
    {
      "cell_type": "code",
      "metadata": {
        "id": "upAWRnSHceHK",
        "colab_type": "code",
        "outputId": "8a19db71-351a-4ad2-f6b6-f00f7db54120",
        "colab": {
          "base_uri": "https://localhost:8080/"
        }
      },
      "source": [
        "tree.plot_tree(dtc)"
      ],
      "execution_count": 0,
      "outputs": [
        {
          "output_type": "execute_result",
          "data": {
            "text/plain": [
              "[Text(125.55000000000001, 190.26, 'X[2] <= 2.45\\nentropy = 1.583\\nsamples = 112\\nvalue = [35, 38, 39]'),\n",
              " Text(83.7, 135.9, 'entropy = 0.0\\nsamples = 35\\nvalue = [35, 0, 0]'),\n",
              " Text(167.4, 135.9, 'X[3] <= 1.65\\nentropy = 1.0\\nsamples = 77\\nvalue = [0, 38, 39]'),\n",
              " Text(83.7, 81.53999999999999, 'X[2] <= 4.95\\nentropy = 0.384\\nsamples = 40\\nvalue = [0, 37, 3]'),\n",
              " Text(41.85, 27.180000000000007, 'entropy = 0.0\\nsamples = 36\\nvalue = [0, 36, 0]'),\n",
              " Text(125.55000000000001, 27.180000000000007, 'entropy = 0.811\\nsamples = 4\\nvalue = [0, 1, 3]'),\n",
              " Text(251.10000000000002, 81.53999999999999, 'X[2] <= 4.85\\nentropy = 0.179\\nsamples = 37\\nvalue = [0, 1, 36]'),\n",
              " Text(209.25, 27.180000000000007, 'entropy = 0.918\\nsamples = 3\\nvalue = [0, 1, 2]'),\n",
              " Text(292.95, 27.180000000000007, 'entropy = 0.0\\nsamples = 34\\nvalue = [0, 0, 34]')]"
            ]
          },
          "metadata": {
            "tags": []
          },
          "execution_count": 19
        },
        {
          "output_type": "display_data",
          "data": {
            "image/png": "[encoded data removed]",
            "text/plain": [
              "<Figure size 432x288 with 1 Axes>"
            ]
          },
          "metadata": {
            "tags": [],
            "needs_background": "light"
          }
        }
      ]
    },
    {
      "cell_type": "code",
      "metadata": {
        "id": "f0srCzUFceHM",
        "colab_type": "code",
        "outputId": "7701c4a5-1c96-4136-f205-25397946b1b1",
        "colab": {
          "base_uri": "https://localhost:8080/"
        }
      },
      "source": [
        "pred = dtc.predict(X_test)\n",
        "accuracy_score(y_test, pred) * 100"
      ],
      "execution_count": 0,
      "outputs": [
        {
          "output_type": "execute_result",
          "data": {
            "text/plain": [
              "97.36842105263158"
            ]
          },
          "metadata": {
            "tags": []
          },
          "execution_count": 20
        }
      ]
    },
    {
      "cell_type": "markdown",
      "metadata": {
        "id": "OHnBH4xkceHP",
        "colab_type": "text"
      },
      "source": [
        "### (g) How did this affect the decision tree and error rate on the training data?"
      ]
    },
    {
      "cell_type": "markdown",
      "metadata": {
        "id": "ux_pDJQrceHP",
        "colab_type": "text"
      },
      "source": [
        "Pruning is used generally to reduce the size of our decision tree. However, since the size of our tree was already small, it had little effect on the accuracy. We also extensively tested which settings were the best, since there were no built in pruning options for scikit learn."
      ]
    },
    {
      "cell_type": "markdown",
      "metadata": {
        "id": "x5gmrBgZceHP",
        "colab_type": "text"
      },
      "source": [
        "### (h) So is C5.0/See5’s global pruning good or bad for the DT for the Iris data?"
      ]
    },
    {
      "cell_type": "markdown",
      "metadata": {
        "id": "0FvN50E_ceHQ",
        "colab_type": "text"
      },
      "source": [
        "Overall, pruning has very little impact on the dataset. This was shown by how little the accuracy changed throughout testing (It would constantly stay at 94 or 97% once it reached a certain threshhold). This may work for much bigger datasets, but for the Iris dataset it is not impactful."
      ]
    },
    {
      "cell_type": "markdown",
      "metadata": {
        "id": "GNxvM4EYceHQ",
        "colab_type": "text"
      },
      "source": [
        "### (i) As has been covered extensively in the course, what we care about ultimately is how learned models perform on additional, out-of-sample data, i.e., Eout. A standard method for estimating out-of-sample performance is cross validation. C5.0See5 can automatically run cross validation testing (e.g., -X option). Run cross validation (with default pruning) using a folds argument of 3. Draw the resulting three decision trees."
      ]
    },
    {
      "cell_type": "code",
      "metadata": {
        "id": "590tysE_ceHR",
        "colab_type": "code",
        "outputId": "9f5230cf-4858-4937-a125-e433e96f247e",
        "colab": {
          "base_uri": "https://localhost:8080/"
        }
      },
      "source": [
        "from sklearn.model_selection import cross_val_score\n",
        "from sklearn.model_selection import cross_validate\n",
        "\n",
        "crossval = tree.DecisionTreeClassifier()\n",
        "\n",
        "score = cross_validate(crossval, X_train, y_train, cv=3)\n",
        "score"
      ],
      "execution_count": 0,
      "outputs": [
        {
          "output_type": "execute_result",
          "data": {
            "text/plain": [
              "{'fit_time': array([0.00105882, 0.00085235, 0.00077987]),\n",
              " 'score_time': array([0.00066376, 0.00068283, 0.00049329]),\n",
              " 'test_score': array([0.94736842, 0.97297297, 0.91891892])}"
            ]
          },
          "metadata": {
            "tags": []
          },
          "execution_count": 21
        }
      ]
    },
    {
      "cell_type": "markdown",
      "metadata": {
        "id": "IzXM9KVIceHW",
        "colab_type": "text"
      },
      "source": [
        "Sklearn does not provide the ability to draw each individual tree. However, we can look at the average accuracy across all 3 tests. "
      ]
    },
    {
      "cell_type": "code",
      "metadata": {
        "id": "CXmYWqHlceHX",
        "colab_type": "code",
        "outputId": "fe834bba-7ae7-497a-b28b-c57711e5fe05",
        "colab": {
          "base_uri": "https://localhost:8080/"
        }
      },
      "source": [
        "print(\"Accuracy: %0.2f (+/- %0.2f)\" % (score[\"test_score\"].mean(), score[\"test_score\"].std() * 2))"
      ],
      "execution_count": 0,
      "outputs": [
        {
          "output_type": "stream",
          "text": [
            "Accuracy: 0.95 (+/- 0.04)\n"
          ],
          "name": "stdout"
        }
      ]
    },
    {
      "cell_type": "markdown",
      "metadata": {
        "id": "ORm2gVkHceHZ",
        "colab_type": "text"
      },
      "source": [
        "### (j) Explain why the trees differ, and why they differ from the DT you drew for problem 1(a)."
      ]
    },
    {
      "cell_type": "markdown",
      "metadata": {
        "id": "cNxGUIxXceHZ",
        "colab_type": "text"
      },
      "source": [
        "Looking at the scores, we can see that the accuracy is varied. This is caused by the fact that each fold uses slightly different data each time, as well as slightly different parameters. As such, each tree will be different"
      ]
    },
    {
      "cell_type": "markdown",
      "metadata": {
        "id": "DjRIrkDmceHZ",
        "colab_type": "text"
      },
      "source": [
        "### (k) Now rerun cross validation with a folds argument of 5. What do you see about the performance of each of the five DTs, and what does this tell you about the size of training datasets for this problem?"
      ]
    },
    {
      "cell_type": "code",
      "metadata": {
        "id": "ISamQgIMceHa",
        "colab_type": "code",
        "outputId": "08ae1893-a605-4e1b-8c95-013a64ab7001",
        "colab": {
          "base_uri": "https://localhost:8080/"
        }
      },
      "source": [
        "crossval = tree.DecisionTreeClassifier()\n",
        "\n",
        "score = cross_validate(crossval, X_train, y_train, cv=5)\n",
        "score"
      ],
      "execution_count": 0,
      "outputs": [
        {
          "output_type": "execute_result",
          "data": {
            "text/plain": [
              "{'fit_time': array([0.00113463, 0.00086498, 0.00110102, 0.00111985, 0.00091434]),\n",
              " 'score_time': array([0.00069833, 0.0017705 , 0.00049973, 0.00064969, 0.00074697]),\n",
              " 'test_score': array([0.95652174, 0.91304348, 0.95454545, 1.        , 0.81818182])}"
            ]
          },
          "metadata": {
            "tags": []
          },
          "execution_count": 23
        }
      ]
    },
    {
      "cell_type": "code",
      "metadata": {
        "id": "42ragmbhceHc",
        "colab_type": "code",
        "outputId": "a38e65a9-d5b5-4235-9901-04efc7c64001",
        "colab": {
          "base_uri": "https://localhost:8080/"
        }
      },
      "source": [
        "print(\"Accuracy: %0.2f (+/- %0.2f)\" % (score[\"test_score\"].mean(), score[\"test_score\"].std() * 2))"
      ],
      "execution_count": 0,
      "outputs": [
        {
          "output_type": "stream",
          "text": [
            "Accuracy: 0.93 (+/- 0.12)\n"
          ],
          "name": "stdout"
        }
      ]
    },
    {
      "cell_type": "markdown",
      "metadata": {
        "id": "TpPxHwyuceHe",
        "colab_type": "text"
      },
      "source": [
        "This tells us that while the average accuracy does not change across this dataset, as the folds continue the accuracy gets worse. This may be caused by overfitting at first, then trying to compensate and underfit as a result. Either way, it can be concluded that having a folds argument of 5 is the best way to go about this. "
      ]
    },
    {
      "cell_type": "markdown",
      "metadata": {
        "id": "feXt49N2ceHe",
        "colab_type": "text"
      },
      "source": [
        "### (l) Decision trees can often be used to classify instances even with limited information about the instances (i.e., knowing values for only a subset of the attributes). What iris class could you best predict with incomplete attribute information, and which attributes’ values would you need to make a prediction?\n"
      ]
    },
    {
      "cell_type": "markdown",
      "metadata": {
        "id": "flnGiu7rceHf",
        "colab_type": "text"
      },
      "source": [
        "To solve this, we should look at what features are correlated, and see if one has more weight. By finding that, we can see which features could exclusively be used to predict."
      ]
    },
    {
      "cell_type": "code",
      "metadata": {
        "id": "gXJa2I1FceHf",
        "colab_type": "code",
        "outputId": "7f359937-f1e2-4c23-de36-ccb7bade0de5",
        "colab": {
          "base_uri": "https://localhost:8080/"
        }
      },
      "source": [
        "iris = pd.read_csv(irispath, header=None)\n",
        "iris.columns = iriscol\n",
        "\n",
        "#Uses Pandas built-in functions to get all of the new columns for each label in our one column. \n",
        "dummies = pd.get_dummies(iris.Class)\n",
        "\n",
        "#Add new column to the dataframe\n",
        "iris = pd.concat([iris, dummies], axis = 1)\n",
        "\n",
        "#Drop the old column\n",
        "iris.drop([\"Class\"], axis = 1, inplace=True)\n",
        "\n",
        "iris.head(3)"
      ],
      "execution_count": 0,
      "outputs": [
        {
          "output_type": "execute_result",
          "data": {
            "text/html": [
              "<div>\n",
              "<style scoped>\n",
              "    .dataframe tbody tr th:only-of-type {\n",
              "        vertical-align: middle;\n",
              "    }\n",
              "\n",
              "    .dataframe tbody tr th {\n",
              "        vertical-align: top;\n",
              "    }\n",
              "\n",
              "    .dataframe thead th {\n",
              "        text-align: right;\n",
              "    }\n",
              "</style>\n",
              "<table border=\"1\" class=\"dataframe\">\n",
              "  <thead>\n",
              "    <tr style=\"text-align: right;\">\n",
              "      <th></th>\n",
              "      <th>Sepal Length</th>\n",
              "      <th>Sepal Width</th>\n",
              "      <th>Petal Length</th>\n",
              "      <th>Petal Width</th>\n",
              "      <th>Iris-setosa</th>\n",
              "      <th>Iris-versicolor</th>\n",
              "      <th>Iris-virginica</th>\n",
              "    </tr>\n",
              "  </thead>\n",
              "  <tbody>\n",
              "    <tr>\n",
              "      <th>0</th>\n",
              "      <td>5.1</td>\n",
              "      <td>3.5</td>\n",
              "      <td>1.4</td>\n",
              "      <td>0.2</td>\n",
              "      <td>1</td>\n",
              "      <td>0</td>\n",
              "      <td>0</td>\n",
              "    </tr>\n",
              "    <tr>\n",
              "      <th>1</th>\n",
              "      <td>4.9</td>\n",
              "      <td>3.0</td>\n",
              "      <td>1.4</td>\n",
              "      <td>0.2</td>\n",
              "      <td>1</td>\n",
              "      <td>0</td>\n",
              "      <td>0</td>\n",
              "    </tr>\n",
              "    <tr>\n",
              "      <th>2</th>\n",
              "      <td>4.7</td>\n",
              "      <td>3.2</td>\n",
              "      <td>1.3</td>\n",
              "      <td>0.2</td>\n",
              "      <td>1</td>\n",
              "      <td>0</td>\n",
              "      <td>0</td>\n",
              "    </tr>\n",
              "  </tbody>\n",
              "</table>\n",
              "</div>"
            ],
            "text/plain": [
              "   Sepal Length  Sepal Width  ...  Iris-versicolor  Iris-virginica\n",
              "0           5.1          3.5  ...                0               0\n",
              "1           4.9          3.0  ...                0               0\n",
              "2           4.7          3.2  ...                0               0\n",
              "\n",
              "[3 rows x 7 columns]"
            ]
          },
          "metadata": {
            "tags": []
          },
          "execution_count": 25
        }
      ]
    },
    {
      "cell_type": "code",
      "metadata": {
        "id": "IZwneyGJceHh",
        "colab_type": "code",
        "outputId": "b9eb2e4e-1b56-4115-a8c0-6849d9c2712b",
        "colab": {
          "base_uri": "https://localhost:8080/"
        }
      },
      "source": [
        "import seaborn as sns\n",
        "fig = plt.figure()\n",
        "ax = plt.subplot(111)\n",
        "corr = iris.corr()\n",
        "ax = sns.heatmap(corr)\n",
        "plt.show()"
      ],
      "execution_count": 0,
      "outputs": [
        {
          "output_type": "stream",
          "text": [
            "/usr/local/lib/python3.6/dist-packages/statsmodels/tools/_testing.py:19: FutureWarning: pandas.util.testing is deprecated. Use the functions in the public API at pandas.testing instead.\n",
            "  import pandas.util.testing as tm\n"
          ],
          "name": "stderr"
        },
        {
          "output_type": "display_data",
          "data": {
            "image/png": "[encoded data removed]",
            "text/plain": [
              "<Figure size 432x288 with 2 Axes>"
            ]
          },
          "metadata": {
            "tags": [],
            "needs_background": "light"
          }
        }
      ]
    },
    {
      "cell_type": "code",
      "metadata": {
        "id": "LRayAkM8ceHj",
        "colab_type": "code",
        "outputId": "49293534-3ea4-476a-a668-1317d6d065de",
        "colab": {
          "base_uri": "https://localhost:8080/"
        }
      },
      "source": [
        "corr.loc[\"Iris-setosa\", :].sort_values(ascending=False)"
      ],
      "execution_count": 0,
      "outputs": [
        {
          "output_type": "execute_result",
          "data": {
            "text/plain": [
              "Iris-setosa        1.000000\n",
              "Sepal Width        0.603348\n",
              "Iris-versicolor   -0.500000\n",
              "Iris-virginica    -0.500000\n",
              "Sepal Length      -0.717416\n",
              "Petal Width       -0.887344\n",
              "Petal Length      -0.922765\n",
              "Name: Iris-setosa, dtype: float64"
            ]
          },
          "metadata": {
            "tags": []
          },
          "execution_count": 27
        }
      ]
    },
    {
      "cell_type": "code",
      "metadata": {
        "id": "177ida9LceHm",
        "colab_type": "code",
        "outputId": "79786dc6-e220-4042-aa25-6568d846792a",
        "colab": {
          "base_uri": "https://localhost:8080/"
        }
      },
      "source": [
        "corr.loc[\"Iris-versicolor\", :].sort_values(ascending=False)"
      ],
      "execution_count": 0,
      "outputs": [
        {
          "output_type": "execute_result",
          "data": {
            "text/plain": [
              "Iris-versicolor    1.000000\n",
              "Petal Length       0.201754\n",
              "Petal Width        0.117899\n",
              "Sepal Length       0.079396\n",
              "Sepal Width       -0.467703\n",
              "Iris-setosa       -0.500000\n",
              "Iris-virginica    -0.500000\n",
              "Name: Iris-versicolor, dtype: float64"
            ]
          },
          "metadata": {
            "tags": []
          },
          "execution_count": 28
        }
      ]
    },
    {
      "cell_type": "code",
      "metadata": {
        "id": "72ywHLXHceHo",
        "colab_type": "code",
        "outputId": "2ed95b27-d73d-4016-93bd-83c9b5bd4f25",
        "colab": {
          "base_uri": "https://localhost:8080/"
        }
      },
      "source": [
        "corr.loc[\"Iris-virginica\", :].sort_values(ascending=False)"
      ],
      "execution_count": 0,
      "outputs": [
        {
          "output_type": "execute_result",
          "data": {
            "text/plain": [
              "Iris-virginica     1.000000\n",
              "Petal Width        0.769445\n",
              "Petal Length       0.721011\n",
              "Sepal Length       0.638020\n",
              "Sepal Width       -0.135645\n",
              "Iris-versicolor   -0.500000\n",
              "Iris-setosa       -0.500000\n",
              "Name: Iris-virginica, dtype: float64"
            ]
          },
          "metadata": {
            "tags": []
          },
          "execution_count": 29
        }
      ]
    },
    {
      "cell_type": "markdown",
      "metadata": {
        "id": "fv6RVtmKceHq",
        "colab_type": "text"
      },
      "source": [
        "Looking at this, we can see that Petal Width has the highest correlation for Viginica, and second highest for Versicolor. Petal Width also had the highest inverse correlation with Setosa, which could be useful to determine what it isnt. As for what classes need more features, it is highly likely that Iris-Versicolor needs all the features, as each of the features individually have low correlation. "
      ]
    },
    {
      "cell_type": "markdown",
      "metadata": {
        "id": "DnGVEe7WceHr",
        "colab_type": "text"
      },
      "source": [
        "# Housing data:"
      ]
    },
    {
      "cell_type": "markdown",
      "metadata": {
        "id": "VuBkqSu0ceHr",
        "colab_type": "text"
      },
      "source": [
        "### (a) Use M5PrimeLab to train several model trees with the Housing data, using five or more different parameter settings. Begin with: m5pparams(true,2,5). Try to change the minLeafSize and minParentSize parameters so as to reduce the number of rules produced. Do not enable agressivePruning here (but regular pruning is on by default) Give a list showing the parameters used and the number of rules that result."
      ]
    },
    {
      "cell_type": "code",
      "metadata": {
        "id": "Lis2UcdPceHs",
        "colab_type": "code",
        "colab": {}
      },
      "source": [
        "from sklearn.tree import DecisionTreeRegressor\n",
        "reg = DecisionTreeRegressor()"
      ],
      "execution_count": 0,
      "outputs": []
    },
    {
      "cell_type": "markdown",
      "metadata": {
        "id": "8JkBAHm1ceHu",
        "colab_type": "text"
      },
      "source": [
        "While there is no agressive prunning in sklearn, we can change the number of samples for a leaf (in essense the leaf size). "
      ]
    },
    {
      "cell_type": "code",
      "metadata": {
        "id": "MwTfNmEzceHv",
        "colab_type": "code",
        "outputId": "77f0dc5d-f627-472b-de4b-7ce0b5cbba71",
        "colab": {
          "base_uri": "https://localhost:8080/",
          "height": 204
        }
      },
      "source": [
        "housing.head(5)"
      ],
      "execution_count": 0,
      "outputs": [
        {
          "output_type": "execute_result",
          "data": {
            "text/html": [
              "<div>\n",
              "<style scoped>\n",
              "    .dataframe tbody tr th:only-of-type {\n",
              "        vertical-align: middle;\n",
              "    }\n",
              "\n",
              "    .dataframe tbody tr th {\n",
              "        vertical-align: top;\n",
              "    }\n",
              "\n",
              "    .dataframe thead th {\n",
              "        text-align: right;\n",
              "    }\n",
              "</style>\n",
              "<table border=\"1\" class=\"dataframe\">\n",
              "  <thead>\n",
              "    <tr style=\"text-align: right;\">\n",
              "      <th></th>\n",
              "      <th>CRIM</th>\n",
              "      <th>ZN</th>\n",
              "      <th>INDUS</th>\n",
              "      <th>CHAS</th>\n",
              "      <th>NOX</th>\n",
              "      <th>RM</th>\n",
              "      <th>AGE</th>\n",
              "      <th>DIS</th>\n",
              "      <th>RAD</th>\n",
              "      <th>TAX</th>\n",
              "      <th>PTRATIO</th>\n",
              "      <th>B</th>\n",
              "      <th>LSTAT</th>\n",
              "      <th>MEDV</th>\n",
              "    </tr>\n",
              "  </thead>\n",
              "  <tbody>\n",
              "    <tr>\n",
              "      <th>0</th>\n",
              "      <td>0.00632</td>\n",
              "      <td>18.00</td>\n",
              "      <td>2.310</td>\n",
              "      <td>0</td>\n",
              "      <td>0.5380</td>\n",
              "      <td>6.5750</td>\n",
              "      <td>65.20</td>\n",
              "      <td>4.0900</td>\n",
              "      <td>1</td>\n",
              "      <td>296.0</td>\n",
              "      <td>15.30</td>\n",
              "      <td>396.90</td>\n",
              "      <td>4.98</td>\n",
              "      <td>24.00</td>\n",
              "    </tr>\n",
              "    <tr>\n",
              "      <th>1</th>\n",
              "      <td>0.02731</td>\n",
              "      <td>0.00</td>\n",
              "      <td>7.070</td>\n",
              "      <td>0</td>\n",
              "      <td>0.4690</td>\n",
              "      <td>6.4210</td>\n",
              "      <td>78.90</td>\n",
              "      <td>4.9671</td>\n",
              "      <td>2</td>\n",
              "      <td>242.0</td>\n",
              "      <td>17.80</td>\n",
              "      <td>396.90</td>\n",
              "      <td>9.14</td>\n",
              "      <td>21.60</td>\n",
              "    </tr>\n",
              "    <tr>\n",
              "      <th>2</th>\n",
              "      <td>0.02729</td>\n",
              "      <td>0.00</td>\n",
              "      <td>7.070</td>\n",
              "      <td>0</td>\n",
              "      <td>0.4690</td>\n",
              "      <td>7.1850</td>\n",
              "      <td>61.10</td>\n",
              "      <td>4.9671</td>\n",
              "      <td>2</td>\n",
              "      <td>242.0</td>\n",
              "      <td>17.80</td>\n",
              "      <td>392.83</td>\n",
              "      <td>4.03</td>\n",
              "      <td>34.70</td>\n",
              "    </tr>\n",
              "    <tr>\n",
              "      <th>3</th>\n",
              "      <td>0.03237</td>\n",
              "      <td>0.00</td>\n",
              "      <td>2.180</td>\n",
              "      <td>0</td>\n",
              "      <td>0.4580</td>\n",
              "      <td>6.9980</td>\n",
              "      <td>45.80</td>\n",
              "      <td>6.0622</td>\n",
              "      <td>3</td>\n",
              "      <td>222.0</td>\n",
              "      <td>18.70</td>\n",
              "      <td>394.63</td>\n",
              "      <td>2.94</td>\n",
              "      <td>33.40</td>\n",
              "    </tr>\n",
              "    <tr>\n",
              "      <th>4</th>\n",
              "      <td>0.06905</td>\n",
              "      <td>0.00</td>\n",
              "      <td>2.180</td>\n",
              "      <td>0</td>\n",
              "      <td>0.4580</td>\n",
              "      <td>7.1470</td>\n",
              "      <td>54.20</td>\n",
              "      <td>6.0622</td>\n",
              "      <td>3</td>\n",
              "      <td>222.0</td>\n",
              "      <td>18.70</td>\n",
              "      <td>396.90</td>\n",
              "      <td>5.33</td>\n",
              "      <td>36.20</td>\n",
              "    </tr>\n",
              "  </tbody>\n",
              "</table>\n",
              "</div>"
            ],
            "text/plain": [
              "      CRIM     ZN  INDUS CHAS     NOX  ...    TAX PTRATIO       B LSTAT   MEDV\n",
              "0  0.00632  18.00  2.310    0  0.5380  ...  296.0   15.30  396.90  4.98  24.00\n",
              "1  0.02731   0.00  7.070    0  0.4690  ...  242.0   17.80  396.90  9.14  21.60\n",
              "2  0.02729   0.00  7.070    0  0.4690  ...  242.0   17.80  392.83  4.03  34.70\n",
              "3  0.03237   0.00  2.180    0  0.4580  ...  222.0   18.70  394.63  2.94  33.40\n",
              "4  0.06905   0.00  2.180    0  0.4580  ...  222.0   18.70  396.90  5.33  36.20\n",
              "\n",
              "[5 rows x 14 columns]"
            ]
          },
          "metadata": {
            "tags": []
          },
          "execution_count": 31
        }
      ]
    },
    {
      "cell_type": "code",
      "metadata": {
        "id": "UIjRr5lhceHx",
        "colab_type": "code",
        "colab": {}
      },
      "source": [
        "y = housing.MEDV.values\n",
        "h = housing.drop(\"MEDV\", axis = 1)\n",
        "x = h.values"
      ],
      "execution_count": 0,
      "outputs": []
    },
    {
      "cell_type": "code",
      "metadata": {
        "id": "ZMtDBF85ceHz",
        "colab_type": "code",
        "colab": {}
      },
      "source": [
        "x_train, x_test, y_train, y_test = train_test_split(x, y, train_size = 0.7, random_state = 69)"
      ],
      "execution_count": 0,
      "outputs": []
    },
    {
      "cell_type": "markdown",
      "metadata": {
        "id": "0BnfhXqdceH2",
        "colab_type": "text"
      },
      "source": [
        "Instead of using for loops to test every instance, we can use Sklearn's GridSearchCV to determine the best parameters. Let's create a parameter grid and then test it."
      ]
    },
    {
      "cell_type": "code",
      "metadata": {
        "id": "dPaF1EFpceH2",
        "colab_type": "code",
        "outputId": "146b798f-c2cd-413d-f600-94ed8ce4a86f",
        "colab": {
          "base_uri": "https://localhost:8080/",
          "height": 34
        }
      },
      "source": [
        "reg.fit(x_train, y_train)\n",
        "print(\"Score={}\".format(reg.score(x_test,y_test)))\n"
      ],
      "execution_count": 0,
      "outputs": [
        {
          "output_type": "stream",
          "text": [
            "Score=0.7633384451938885\n"
          ],
          "name": "stdout"
        }
      ]
    },
    {
      "cell_type": "markdown",
      "metadata": {
        "id": "2nPfvVJAceH4",
        "colab_type": "text"
      },
      "source": [
        "Now that we have a basic model down, we can create a grid of parameters we want to test, and use GridSeach Cross Validation to determine the best model. We will start with 3 folds and then move to 5, then 10, similar to how we tested our model last time"
      ]
    },
    {
      "cell_type": "code",
      "metadata": {
        "id": "xC0gT0CPceH5",
        "colab_type": "code",
        "colab": {}
      },
      "source": [
        "from sklearn.model_selection import GridSearchCV\n",
        "\n",
        "def gridtest(folds): \n",
        "    print(\"===={} FOLDS====\".format(folds))\n",
        "    param_grid = {\"criterion\": [\"mse\", \"mae\"],\n",
        "              \"min_samples_split\": [10, 20, 30, 40, 50],\n",
        "              \"max_depth\": [2, 4, 6, 8, 10],\n",
        "              \"min_samples_leaf\": [20, 40, 60, 80, 100],\n",
        "              \"max_leaf_nodes\": [5, 20, 50, 75, 100]\n",
        "              }\n",
        "    \n",
        "    gridreg = GridSearchCV(reg, param_grid, cv=folds)\n",
        "\n",
        "    gridreg.fit(x_train, y_train)\n",
        "    \n",
        "    print(\"Score:{}\".format(gridreg.best_score_))\n",
        "    print(\"Best Hyperparameters::\\n{}\".format(gridreg.best_params_))\n",
        "    df = pd.DataFrame(data=gridreg.cv_results_)\n",
        "    df = df.drop_duplicates(subset=['param_max_depth', 'mean_test_score', 'param_max_leaf_nodes'], keep='last')\n",
        "    print(\"\\n\")\n",
        "    return df\n",
        "    \n",
        "    "
      ],
      "execution_count": 0,
      "outputs": []
    },
    {
      "cell_type": "code",
      "metadata": {
        "id": "wLDkO46bceH7",
        "colab_type": "code",
        "outputId": "e27df686-3e6a-4491-c7b3-016190089a10",
        "colab": {
          "base_uri": "https://localhost:8080/",
          "height": 323
        }
      },
      "source": [
        "r3 = gridtest(3)\n",
        "r5 = gridtest(5)\n",
        "r10 = gridtest(10)"
      ],
      "execution_count": 0,
      "outputs": [
        {
          "output_type": "stream",
          "text": [
            "====3 FOLDS====\n",
            "Score:0.6371766888616998\n",
            "Best Hyperparameters::\n",
            "{'criterion': 'mae', 'max_depth': 6, 'max_leaf_nodes': 20, 'min_samples_leaf': 20, 'min_samples_split': 10}\n",
            "\n",
            "\n",
            "====5 FOLDS====\n",
            "Score:0.706969325115044\n",
            "Best Hyperparameters::\n",
            "{'criterion': 'mse', 'max_depth': 6, 'max_leaf_nodes': 20, 'min_samples_leaf': 20, 'min_samples_split': 10}\n",
            "\n",
            "\n",
            "====10 FOLDS====\n",
            "Score:0.7208106775275758\n",
            "Best Hyperparameters::\n",
            "{'criterion': 'mse', 'max_depth': 6, 'max_leaf_nodes': 20, 'min_samples_leaf': 20, 'min_samples_split': 10}\n",
            "\n",
            "\n"
          ],
          "name": "stdout"
        }
      ]
    },
    {
      "cell_type": "markdown",
      "metadata": {
        "id": "DmGJU0nbceH-",
        "colab_type": "text"
      },
      "source": [
        "Using GridSearchCV, we were able to see the best combination of these 5 parameters. Surprisingly, each cv returned the same parameter, with the only exception being the criterion we used. "
      ]
    },
    {
      "cell_type": "markdown",
      "metadata": {
        "id": "XulZxG_uceH_",
        "colab_type": "text"
      },
      "source": [
        "### (b) What do your results show about the relationship between minLeafSize and minParentSize and the number of rules. Does this this makes sense? Explain."
      ]
    },
    {
      "cell_type": "code",
      "metadata": {
        "id": "pya6252JceH_",
        "colab_type": "code",
        "outputId": "0ffde788-6444-4076-cc4e-336a45aa890c",
        "colab": {
          "base_uri": "https://localhost:8080/"
        }
      },
      "source": [
        "reg = r10\n",
        "col = [\"param_max_depth\", \"param_max_leaf_nodes\", \"param_min_samples_leaf\", \"param_min_samples_split\", 'mean_test_score']\n",
        "reg = reg[col].sort_values(\"mean_test_score\", ascending=False)\n",
        "reg"
      ],
      "execution_count": 0,
      "outputs": [
        {
          "output_type": "execute_result",
          "data": {
            "text/html": [
              "<div>\n",
              "<style scoped>\n",
              "    .dataframe tbody tr th:only-of-type {\n",
              "        vertical-align: middle;\n",
              "    }\n",
              "\n",
              "    .dataframe tbody tr th {\n",
              "        vertical-align: top;\n",
              "    }\n",
              "\n",
              "    .dataframe thead th {\n",
              "        text-align: right;\n",
              "    }\n",
              "</style>\n",
              "<table border=\"1\" class=\"dataframe\">\n",
              "  <thead>\n",
              "    <tr style=\"text-align: right;\">\n",
              "      <th></th>\n",
              "      <th>param_max_depth</th>\n",
              "      <th>param_max_leaf_nodes</th>\n",
              "      <th>param_min_samples_leaf</th>\n",
              "      <th>param_min_samples_split</th>\n",
              "      <th>mean_test_score</th>\n",
              "    </tr>\n",
              "  </thead>\n",
              "  <tbody>\n",
              "    <tr>\n",
              "      <th>553</th>\n",
              "      <td>10</td>\n",
              "      <td>50</td>\n",
              "      <td>20</td>\n",
              "      <td>40</td>\n",
              "      <td>0.720811</td>\n",
              "    </tr>\n",
              "    <tr>\n",
              "      <th>353</th>\n",
              "      <td>6</td>\n",
              "      <td>100</td>\n",
              "      <td>20</td>\n",
              "      <td>40</td>\n",
              "      <td>0.720811</td>\n",
              "    </tr>\n",
              "    <tr>\n",
              "      <th>303</th>\n",
              "      <td>6</td>\n",
              "      <td>50</td>\n",
              "      <td>20</td>\n",
              "      <td>40</td>\n",
              "      <td>0.720811</td>\n",
              "    </tr>\n",
              "    <tr>\n",
              "      <th>528</th>\n",
              "      <td>10</td>\n",
              "      <td>20</td>\n",
              "      <td>20</td>\n",
              "      <td>40</td>\n",
              "      <td>0.720811</td>\n",
              "    </tr>\n",
              "    <tr>\n",
              "      <th>403</th>\n",
              "      <td>8</td>\n",
              "      <td>20</td>\n",
              "      <td>20</td>\n",
              "      <td>40</td>\n",
              "      <td>0.720811</td>\n",
              "    </tr>\n",
              "    <tr>\n",
              "      <th>...</th>\n",
              "      <td>...</td>\n",
              "      <td>...</td>\n",
              "      <td>...</td>\n",
              "      <td>...</td>\n",
              "      <td>...</td>\n",
              "    </tr>\n",
              "    <tr>\n",
              "      <th>597</th>\n",
              "      <td>10</td>\n",
              "      <td>75</td>\n",
              "      <td>100</td>\n",
              "      <td>30</td>\n",
              "      <td>0.459310</td>\n",
              "    </tr>\n",
              "    <tr>\n",
              "      <th>545</th>\n",
              "      <td>10</td>\n",
              "      <td>20</td>\n",
              "      <td>100</td>\n",
              "      <td>10</td>\n",
              "      <td>0.459310</td>\n",
              "    </tr>\n",
              "    <tr>\n",
              "      <th>522</th>\n",
              "      <td>10</td>\n",
              "      <td>5</td>\n",
              "      <td>100</td>\n",
              "      <td>30</td>\n",
              "      <td>0.459310</td>\n",
              "    </tr>\n",
              "    <tr>\n",
              "      <th>320</th>\n",
              "      <td>6</td>\n",
              "      <td>50</td>\n",
              "      <td>100</td>\n",
              "      <td>10</td>\n",
              "      <td>0.459310</td>\n",
              "    </tr>\n",
              "    <tr>\n",
              "      <th>99</th>\n",
              "      <td>2</td>\n",
              "      <td>75</td>\n",
              "      <td>100</td>\n",
              "      <td>50</td>\n",
              "      <td>0.459310</td>\n",
              "    </tr>\n",
              "  </tbody>\n",
              "</table>\n",
              "<p>460 rows × 5 columns</p>\n",
              "</div>"
            ],
            "text/plain": [
              "    param_max_depth  ... mean_test_score\n",
              "553              10  ...        0.720811\n",
              "353               6  ...        0.720811\n",
              "303               6  ...        0.720811\n",
              "528              10  ...        0.720811\n",
              "403               8  ...        0.720811\n",
              "..              ...  ...             ...\n",
              "597              10  ...        0.459310\n",
              "545              10  ...        0.459310\n",
              "522              10  ...        0.459310\n",
              "320               6  ...        0.459310\n",
              "99                2  ...        0.459310\n",
              "\n",
              "[460 rows x 5 columns]"
            ]
          },
          "metadata": {
            "tags": []
          },
          "execution_count": 38
        }
      ]
    },
    {
      "cell_type": "markdown",
      "metadata": {
        "id": "tyDnO8R_ceIB",
        "colab_type": "text"
      },
      "source": [
        "The parameters we were looking towards were how number of samples affects performance. Takin a look at the 10 fold, we can see that all the top performers have low samples. This means that the smaller the minLeafSize is, the better it will perform on the boston housing data."
      ]
    },
    {
      "cell_type": "markdown",
      "metadata": {
        "id": "H3smzA7tceIC",
        "colab_type": "text"
      },
      "source": [
        "### (c) Repeat the problem 2(a), but now enable agressivePruning. This can be done by doing something like: m5pparams(true,2,5,true,0,0.05,true). Again, give a list showing the parameters used and the number of rules that result."
      ]
    },
    {
      "cell_type": "markdown",
      "metadata": {
        "id": "OlRwRkbnceIC",
        "colab_type": "text"
      },
      "source": [
        "Unfortunetly, due to sklearn's tree parameters, we cannot agressively prune the tree. However, based on our GridSearchCV, we can see that size of the tree has little effect on the performance. Thus, we can assume that agressively prunning the data in terms of depth will have no effect. As stated above, the Number of Samples for the model has the most effect on performance, and so a combination of low samples and low depth will result in the most accurate tree. This makes sense, as Pruning is used to reduce the tree size while maximising performance. "
      ]
    },
    {
      "cell_type": "markdown",
      "metadata": {
        "id": "AEJ2rTugceIC",
        "colab_type": "text"
      },
      "source": [
        "### (d) Pick one of your smaller model tree rulesets, and write down rules for the first four outputs (y-values) that were produced. If there are no linear equations in these first four rules, also write down the first rule that lead to a linear equation (or show one from a larger tree). \n"
      ]
    },
    {
      "cell_type": "code",
      "metadata": {
        "id": "3nPUsrBRceID",
        "colab_type": "code",
        "outputId": "6de3721b-fb4a-4762-c185-7804f6e94c78",
        "colab": {
          "base_uri": "https://localhost:8080/"
        }
      },
      "source": [
        "reg = DecisionTreeRegressor(criterion = 'mse', max_depth = 6, max_leaf_nodes= 20, min_samples_leaf=20, min_samples_split=10)\n",
        "reg.fit(x_train, y_train)"
      ],
      "execution_count": 0,
      "outputs": [
        {
          "output_type": "execute_result",
          "data": {
            "text/plain": [
              "DecisionTreeRegressor(ccp_alpha=0.0, criterion='mse', max_depth=6,\n",
              "                      max_features=None, max_leaf_nodes=20,\n",
              "                      min_impurity_decrease=0.0, min_impurity_split=None,\n",
              "                      min_samples_leaf=20, min_samples_split=10,\n",
              "                      min_weight_fraction_leaf=0.0, presort='deprecated',\n",
              "                      random_state=None, splitter='best')"
            ]
          },
          "metadata": {
            "tags": []
          },
          "execution_count": 39
        }
      ]
    },
    {
      "cell_type": "markdown",
      "metadata": {
        "id": "6ccOfSMFeOtm",
        "colab_type": "text"
      },
      "source": [
        "\n",
        "### (e) Draw the model tree represented by the rules you wrote in the previous proble, i.e., convert the rules to a decision tree. (One of the advantages of DTs is that trees can be represented as rules, and vice versa. Sometimes one is a better representation and sometimes the other is.)"
      ]
    },
    {
      "cell_type": "code",
      "metadata": {
        "id": "8N7amiVVceIF",
        "colab_type": "code",
        "outputId": "14fd7af6-165d-4c4b-b3fc-45a7533ffd54",
        "colab": {
          "base_uri": "https://localhost:8080/"
        }
      },
      "source": [
        "from sklearn.tree import export_graphviz  \n",
        "import graphviz\n",
        "housingcol.remove(\"MEDV\")\n",
        "data = export_graphviz(reg, out_file =None, \n",
        "            feature_names =housingcol)\n",
        "housingcol.append(\"MEDV\")\n",
        "graph = graphviz.Source(data)\n",
        "graph\n"
      ],
      "execution_count": 0,
      "outputs": [
        {
          "output_type": "execute_result",
          "data": {
            "text/plain": [
              "<graphviz.files.Source at 0x7efe13f210b8>"
            ],
            "image/svg+xml": "<?xml version=\"1.0\" encoding=\"UTF-8\" standalone=\"no\"?>\n<!DOCTYPE svg PUBLIC \"-//W3C//DTD SVG 1.1//EN\"\n \"http://www.w3.org/Graphics/SVG/1.1/DTD/svg11.dtd\">\n<!-- Generated by graphviz version 2.40.1 (20161225.0304)\n -->\n<!-- Title: Tree Pages: 1 -->\n<svg width=\"836pt\" height=\"685pt\"\n viewBox=\"0.00 0.00 836.00 685.00\" xmlns=\"http://www.w3.org/2000/svg\" xmlns:xlink=\"http://www.w3.org/1999/xlink\">\n<g id=\"graph0\" class=\"graph\" transform=\"scale(1 1) rotate(0) translate(4 681)\">\n<title>Tree</title>\n<polygon fill=\"#ffffff\" stroke=\"transparent\" points=\"-4,4 -4,-681 832,-681 832,4 -4,4\"/>\n<!-- 0 -->\n<g id=\"node1\" class=\"node\">\n<title>0</title>\n<polygon fill=\"none\" stroke=\"#000000\" points=\"590,-677 486,-677 486,-609 590,-609 590,-677\"/>\n<text text-anchor=\"middle\" x=\"538\" y=\"-661.8\" font-family=\"Times,serif\" font-size=\"14.00\" fill=\"#000000\">RM &lt;= 6.92</text>\n<text text-anchor=\"middle\" x=\"538\" y=\"-646.8\" font-family=\"Times,serif\" font-size=\"14.00\" fill=\"#000000\">mse = 86.673</text>\n<text text-anchor=\"middle\" x=\"538\" y=\"-631.8\" font-family=\"Times,serif\" font-size=\"14.00\" fill=\"#000000\">samples = 354</text>\n<text text-anchor=\"middle\" x=\"538\" y=\"-616.8\" font-family=\"Times,serif\" font-size=\"14.00\" fill=\"#000000\">value = 22.536</text>\n</g>\n<!-- 1 -->\n<g id=\"node2\" class=\"node\">\n<title>1</title>\n<polygon fill=\"none\" stroke=\"#000000\" points=\"532,-573 422,-573 422,-505 532,-505 532,-573\"/>\n<text text-anchor=\"middle\" x=\"477\" y=\"-557.8\" font-family=\"Times,serif\" font-size=\"14.00\" fill=\"#000000\">LSTAT &lt;= 14.4</text>\n<text text-anchor=\"middle\" x=\"477\" y=\"-542.8\" font-family=\"Times,serif\" font-size=\"14.00\" fill=\"#000000\">mse = 40.477</text>\n<text text-anchor=\"middle\" x=\"477\" y=\"-527.8\" font-family=\"Times,serif\" font-size=\"14.00\" fill=\"#000000\">samples = 302</text>\n<text text-anchor=\"middle\" x=\"477\" y=\"-512.8\" font-family=\"Times,serif\" font-size=\"14.00\" fill=\"#000000\">value = 19.867</text>\n</g>\n<!-- 0&#45;&gt;1 -->\n<g id=\"edge1\" class=\"edge\">\n<title>0&#45;&gt;1</title>\n<path fill=\"none\" stroke=\"#000000\" d=\"M518.0263,-608.9465C512.9707,-600.3271 507.4753,-590.9579 502.1983,-581.9611\"/>\n<polygon fill=\"#000000\" stroke=\"#000000\" points=\"505.0969,-579.985 497.0186,-573.13 499.0589,-583.5265 505.0969,-579.985\"/>\n<text text-anchor=\"middle\" x=\"490.714\" y=\"-593.622\" font-family=\"Times,serif\" font-size=\"14.00\" fill=\"#000000\">True</text>\n</g>\n<!-- 2 -->\n<g id=\"node23\" class=\"node\">\n<title>2</title>\n<polygon fill=\"none\" stroke=\"#000000\" points=\"647.5,-573 550.5,-573 550.5,-505 647.5,-505 647.5,-573\"/>\n<text text-anchor=\"middle\" x=\"599\" y=\"-557.8\" font-family=\"Times,serif\" font-size=\"14.00\" fill=\"#000000\">RM &lt;= 7.433</text>\n<text text-anchor=\"middle\" x=\"599\" y=\"-542.8\" font-family=\"Times,serif\" font-size=\"14.00\" fill=\"#000000\">mse = 73.194</text>\n<text text-anchor=\"middle\" x=\"599\" y=\"-527.8\" font-family=\"Times,serif\" font-size=\"14.00\" fill=\"#000000\">samples = 52</text>\n<text text-anchor=\"middle\" x=\"599\" y=\"-512.8\" font-family=\"Times,serif\" font-size=\"14.00\" fill=\"#000000\">value = 38.04</text>\n</g>\n<!-- 0&#45;&gt;2 -->\n<g id=\"edge22\" class=\"edge\">\n<title>0&#45;&gt;2</title>\n<path fill=\"none\" stroke=\"#000000\" d=\"M557.9737,-608.9465C563.0293,-600.3271 568.5247,-590.9579 573.8017,-581.9611\"/>\n<polygon fill=\"#000000\" stroke=\"#000000\" points=\"576.9411,-583.5265 578.9814,-573.13 570.9031,-579.985 576.9411,-583.5265\"/>\n<text text-anchor=\"middle\" x=\"585.286\" y=\"-593.622\" font-family=\"Times,serif\" font-size=\"14.00\" fill=\"#000000\">False</text>\n</g>\n<!-- 3 -->\n<g id=\"node3\" class=\"node\">\n<title>3</title>\n<polygon fill=\"none\" stroke=\"#000000\" points=\"351,-469 241,-469 241,-401 351,-401 351,-469\"/>\n<text text-anchor=\"middle\" x=\"296\" y=\"-453.8\" font-family=\"Times,serif\" font-size=\"14.00\" fill=\"#000000\">LSTAT &lt;= 5.41</text>\n<text text-anchor=\"middle\" x=\"296\" y=\"-438.8\" font-family=\"Times,serif\" font-size=\"14.00\" fill=\"#000000\">mse = 26.518</text>\n<text text-anchor=\"middle\" x=\"296\" y=\"-423.8\" font-family=\"Times,serif\" font-size=\"14.00\" fill=\"#000000\">samples = 177</text>\n<text text-anchor=\"middle\" x=\"296\" y=\"-408.8\" font-family=\"Times,serif\" font-size=\"14.00\" fill=\"#000000\">value = 23.318</text>\n</g>\n<!-- 1&#45;&gt;3 -->\n<g id=\"edge2\" class=\"edge\">\n<title>1&#45;&gt;3</title>\n<path fill=\"none\" stroke=\"#000000\" d=\"M421.7105,-507.2315C402.2399,-496.0439 380.1932,-483.3762 360.0602,-471.8081\"/>\n<polygon fill=\"#000000\" stroke=\"#000000\" points=\"361.6769,-468.7004 351.2625,-466.753 358.1894,-474.7698 361.6769,-468.7004\"/>\n</g>\n<!-- 4 -->\n<g id=\"node16\" class=\"node\">\n<title>4</title>\n<polygon fill=\"none\" stroke=\"#000000\" points=\"532.5,-469 421.5,-469 421.5,-401 532.5,-401 532.5,-469\"/>\n<text text-anchor=\"middle\" x=\"477\" y=\"-453.8\" font-family=\"Times,serif\" font-size=\"14.00\" fill=\"#000000\">CRIM &lt;= 6.992</text>\n<text text-anchor=\"middle\" x=\"477\" y=\"-438.8\" font-family=\"Times,serif\" font-size=\"14.00\" fill=\"#000000\">mse = 19.488</text>\n<text text-anchor=\"middle\" x=\"477\" y=\"-423.8\" font-family=\"Times,serif\" font-size=\"14.00\" fill=\"#000000\">samples = 125</text>\n<text text-anchor=\"middle\" x=\"477\" y=\"-408.8\" font-family=\"Times,serif\" font-size=\"14.00\" fill=\"#000000\">value = 14.979</text>\n</g>\n<!-- 1&#45;&gt;4 -->\n<g id=\"edge15\" class=\"edge\">\n<title>1&#45;&gt;4</title>\n<path fill=\"none\" stroke=\"#000000\" d=\"M477,-504.9465C477,-496.776 477,-487.9318 477,-479.3697\"/>\n<polygon fill=\"#000000\" stroke=\"#000000\" points=\"480.5001,-479.13 477,-469.13 473.5001,-479.13 480.5001,-479.13\"/>\n</g>\n<!-- 7 -->\n<g id=\"node4\" class=\"node\">\n<title>7</title>\n<polygon fill=\"none\" stroke=\"#000000\" points=\"218.5,-357.5 121.5,-357.5 121.5,-304.5 218.5,-304.5 218.5,-357.5\"/>\n<text text-anchor=\"middle\" x=\"170\" y=\"-342.3\" font-family=\"Times,serif\" font-size=\"14.00\" fill=\"#000000\">mse = 51.203</text>\n<text text-anchor=\"middle\" x=\"170\" y=\"-327.3\" font-family=\"Times,serif\" font-size=\"14.00\" fill=\"#000000\">samples = 20</text>\n<text text-anchor=\"middle\" x=\"170\" y=\"-312.3\" font-family=\"Times,serif\" font-size=\"14.00\" fill=\"#000000\">value = 30.44</text>\n</g>\n<!-- 3&#45;&gt;7 -->\n<g id=\"edge3\" class=\"edge\">\n<title>3&#45;&gt;7</title>\n<path fill=\"none\" stroke=\"#000000\" d=\"M254.7429,-400.9465C240.3303,-389.0504 224.1873,-375.726 209.8883,-363.9237\"/>\n<polygon fill=\"#000000\" stroke=\"#000000\" points=\"212.0971,-361.2086 202.1569,-357.5422 207.6411,-366.6071 212.0971,-361.2086\"/>\n</g>\n<!-- 8 -->\n<g id=\"node5\" class=\"node\">\n<title>8</title>\n<polygon fill=\"none\" stroke=\"#000000\" points=\"355,-365 237,-365 237,-297 355,-297 355,-365\"/>\n<text text-anchor=\"middle\" x=\"296\" y=\"-349.8\" font-family=\"Times,serif\" font-size=\"14.00\" fill=\"#000000\">LSTAT &lt;= 10.02</text>\n<text text-anchor=\"middle\" x=\"296\" y=\"-334.8\" font-family=\"Times,serif\" font-size=\"14.00\" fill=\"#000000\">mse = 16.088</text>\n<text text-anchor=\"middle\" x=\"296\" y=\"-319.8\" font-family=\"Times,serif\" font-size=\"14.00\" fill=\"#000000\">samples = 157</text>\n<text text-anchor=\"middle\" x=\"296\" y=\"-304.8\" font-family=\"Times,serif\" font-size=\"14.00\" fill=\"#000000\">value = 22.411</text>\n</g>\n<!-- 3&#45;&gt;8 -->\n<g id=\"edge4\" class=\"edge\">\n<title>3&#45;&gt;8</title>\n<path fill=\"none\" stroke=\"#000000\" d=\"M296,-400.9465C296,-392.776 296,-383.9318 296,-375.3697\"/>\n<polygon fill=\"#000000\" stroke=\"#000000\" points=\"299.5001,-375.13 296,-365.13 292.5001,-375.13 299.5001,-375.13\"/>\n</g>\n<!-- 11 -->\n<g id=\"node6\" class=\"node\">\n<title>11</title>\n<polygon fill=\"none\" stroke=\"#000000\" points=\"226,-261 122,-261 122,-193 226,-193 226,-261\"/>\n<text text-anchor=\"middle\" x=\"174\" y=\"-245.8\" font-family=\"Times,serif\" font-size=\"14.00\" fill=\"#000000\">DIS &lt;= 4.464</text>\n<text text-anchor=\"middle\" x=\"174\" y=\"-230.8\" font-family=\"Times,serif\" font-size=\"14.00\" fill=\"#000000\">mse = 20.056</text>\n<text text-anchor=\"middle\" x=\"174\" y=\"-215.8\" font-family=\"Times,serif\" font-size=\"14.00\" fill=\"#000000\">samples = 81</text>\n<text text-anchor=\"middle\" x=\"174\" y=\"-200.8\" font-family=\"Times,serif\" font-size=\"14.00\" fill=\"#000000\">value = 23.933</text>\n</g>\n<!-- 8&#45;&gt;11 -->\n<g id=\"edge5\" class=\"edge\">\n<title>8&#45;&gt;11</title>\n<path fill=\"none\" stroke=\"#000000\" d=\"M256.0526,-296.9465C245.0988,-287.6088 233.1127,-277.3911 221.768,-267.7203\"/>\n<polygon fill=\"#000000\" stroke=\"#000000\" points=\"223.9179,-264.9538 214.0371,-261.13 219.3767,-270.2809 223.9179,-264.9538\"/>\n</g>\n<!-- 12 -->\n<g id=\"node11\" class=\"node\">\n<title>12</title>\n<polygon fill=\"none\" stroke=\"#000000\" points=\"348,-261 244,-261 244,-193 348,-193 348,-261\"/>\n<text text-anchor=\"middle\" x=\"296\" y=\"-245.8\" font-family=\"Times,serif\" font-size=\"14.00\" fill=\"#000000\">RM &lt;= 5.848</text>\n<text text-anchor=\"middle\" x=\"296\" y=\"-230.8\" font-family=\"Times,serif\" font-size=\"14.00\" fill=\"#000000\">mse = 6.756</text>\n<text text-anchor=\"middle\" x=\"296\" y=\"-215.8\" font-family=\"Times,serif\" font-size=\"14.00\" fill=\"#000000\">samples = 76</text>\n<text text-anchor=\"middle\" x=\"296\" y=\"-200.8\" font-family=\"Times,serif\" font-size=\"14.00\" fill=\"#000000\">value = 20.788</text>\n</g>\n<!-- 8&#45;&gt;12 -->\n<g id=\"edge10\" class=\"edge\">\n<title>8&#45;&gt;12</title>\n<path fill=\"none\" stroke=\"#000000\" d=\"M296,-296.9465C296,-288.776 296,-279.9318 296,-271.3697\"/>\n<polygon fill=\"#000000\" stroke=\"#000000\" points=\"299.5001,-271.13 296,-261.13 292.5001,-271.13 299.5001,-271.13\"/>\n</g>\n<!-- 13 -->\n<g id=\"node7\" class=\"node\">\n<title>13</title>\n<polygon fill=\"none\" stroke=\"#000000\" points=\"104,-149.5 0,-149.5 0,-96.5 104,-96.5 104,-149.5\"/>\n<text text-anchor=\"middle\" x=\"52\" y=\"-134.3\" font-family=\"Times,serif\" font-size=\"14.00\" fill=\"#000000\">mse = 31.948</text>\n<text text-anchor=\"middle\" x=\"52\" y=\"-119.3\" font-family=\"Times,serif\" font-size=\"14.00\" fill=\"#000000\">samples = 32</text>\n<text text-anchor=\"middle\" x=\"52\" y=\"-104.3\" font-family=\"Times,serif\" font-size=\"14.00\" fill=\"#000000\">value = 26.481</text>\n</g>\n<!-- 11&#45;&gt;13 -->\n<g id=\"edge6\" class=\"edge\">\n<title>11&#45;&gt;13</title>\n<path fill=\"none\" stroke=\"#000000\" d=\"M134.0526,-192.9465C120.2268,-181.1606 104.7564,-167.9726 91.0071,-156.2519\"/>\n<polygon fill=\"#000000\" stroke=\"#000000\" points=\"93.0168,-153.366 83.136,-149.5422 88.4756,-158.6931 93.0168,-153.366\"/>\n</g>\n<!-- 14 -->\n<g id=\"node8\" class=\"node\">\n<title>14</title>\n<polygon fill=\"none\" stroke=\"#000000\" points=\"226,-157 122,-157 122,-89 226,-89 226,-157\"/>\n<text text-anchor=\"middle\" x=\"174\" y=\"-141.8\" font-family=\"Times,serif\" font-size=\"14.00\" fill=\"#000000\">RM &lt;= 6.155</text>\n<text text-anchor=\"middle\" x=\"174\" y=\"-126.8\" font-family=\"Times,serif\" font-size=\"14.00\" fill=\"#000000\">mse = 5.281</text>\n<text text-anchor=\"middle\" x=\"174\" y=\"-111.8\" font-family=\"Times,serif\" font-size=\"14.00\" fill=\"#000000\">samples = 49</text>\n<text text-anchor=\"middle\" x=\"174\" y=\"-96.8\" font-family=\"Times,serif\" font-size=\"14.00\" fill=\"#000000\">value = 22.269</text>\n</g>\n<!-- 11&#45;&gt;14 -->\n<g id=\"edge7\" class=\"edge\">\n<title>11&#45;&gt;14</title>\n<path fill=\"none\" stroke=\"#000000\" d=\"M174,-192.9465C174,-184.776 174,-175.9318 174,-167.3697\"/>\n<polygon fill=\"#000000\" stroke=\"#000000\" points=\"177.5001,-167.13 174,-157.13 170.5001,-167.13 177.5001,-167.13\"/>\n</g>\n<!-- 19 -->\n<g id=\"node9\" class=\"node\">\n<title>19</title>\n<polygon fill=\"none\" stroke=\"#000000\" points=\"169,-53 65,-53 65,0 169,0 169,-53\"/>\n<text text-anchor=\"middle\" x=\"117\" y=\"-37.8\" font-family=\"Times,serif\" font-size=\"14.00\" fill=\"#000000\">mse = 2.44</text>\n<text text-anchor=\"middle\" x=\"117\" y=\"-22.8\" font-family=\"Times,serif\" font-size=\"14.00\" fill=\"#000000\">samples = 22</text>\n<text text-anchor=\"middle\" x=\"117\" y=\"-7.8\" font-family=\"Times,serif\" font-size=\"14.00\" fill=\"#000000\">value = 20.682</text>\n</g>\n<!-- 14&#45;&gt;19 -->\n<g id=\"edge8\" class=\"edge\">\n<title>14&#45;&gt;19</title>\n<path fill=\"none\" stroke=\"#000000\" d=\"M153.9039,-88.9777C148.7656,-80.2786 143.227,-70.9018 138.0425,-62.1247\"/>\n<polygon fill=\"#000000\" stroke=\"#000000\" points=\"140.899,-60.0786 132.7996,-53.2485 134.8719,-63.6387 140.899,-60.0786\"/>\n</g>\n<!-- 20 -->\n<g id=\"node10\" class=\"node\">\n<title>20</title>\n<polygon fill=\"none\" stroke=\"#000000\" points=\"291,-53 187,-53 187,0 291,0 291,-53\"/>\n<text text-anchor=\"middle\" x=\"239\" y=\"-37.8\" font-family=\"Times,serif\" font-size=\"14.00\" fill=\"#000000\">mse = 3.869</text>\n<text text-anchor=\"middle\" x=\"239\" y=\"-22.8\" font-family=\"Times,serif\" font-size=\"14.00\" fill=\"#000000\">samples = 27</text>\n<text text-anchor=\"middle\" x=\"239\" y=\"-7.8\" font-family=\"Times,serif\" font-size=\"14.00\" fill=\"#000000\">value = 23.563</text>\n</g>\n<!-- 14&#45;&gt;20 -->\n<g id=\"edge9\" class=\"edge\">\n<title>14&#45;&gt;20</title>\n<path fill=\"none\" stroke=\"#000000\" d=\"M196.9166,-88.9777C202.8994,-80.0954 209.3582,-70.5067 215.377,-61.5711\"/>\n<polygon fill=\"#000000\" stroke=\"#000000\" points=\"218.2991,-63.4978 220.9829,-53.2485 212.4933,-59.5871 218.2991,-63.4978\"/>\n</g>\n<!-- 21 -->\n<g id=\"node12\" class=\"node\">\n<title>21</title>\n<polygon fill=\"none\" stroke=\"#000000\" points=\"348,-149.5 244,-149.5 244,-96.5 348,-96.5 348,-149.5\"/>\n<text text-anchor=\"middle\" x=\"296\" y=\"-134.3\" font-family=\"Times,serif\" font-size=\"14.00\" fill=\"#000000\">mse = 10.022</text>\n<text text-anchor=\"middle\" x=\"296\" y=\"-119.3\" font-family=\"Times,serif\" font-size=\"14.00\" fill=\"#000000\">samples = 22</text>\n<text text-anchor=\"middle\" x=\"296\" y=\"-104.3\" font-family=\"Times,serif\" font-size=\"14.00\" fill=\"#000000\">value = 19.877</text>\n</g>\n<!-- 12&#45;&gt;21 -->\n<g id=\"edge11\" class=\"edge\">\n<title>12&#45;&gt;21</title>\n<path fill=\"none\" stroke=\"#000000\" d=\"M296,-192.9465C296,-182.2621 296,-170.4254 296,-159.5742\"/>\n<polygon fill=\"#000000\" stroke=\"#000000\" points=\"299.5001,-159.5421 296,-149.5422 292.5001,-159.5422 299.5001,-159.5421\"/>\n</g>\n<!-- 22 -->\n<g id=\"node13\" class=\"node\">\n<title>22</title>\n<polygon fill=\"none\" stroke=\"#000000\" points=\"500,-157 366,-157 366,-89 500,-89 500,-157\"/>\n<text text-anchor=\"middle\" x=\"433\" y=\"-141.8\" font-family=\"Times,serif\" font-size=\"14.00\" fill=\"#000000\">PTRATIO &lt;= 18.65</text>\n<text text-anchor=\"middle\" x=\"433\" y=\"-126.8\" font-family=\"Times,serif\" font-size=\"14.00\" fill=\"#000000\">mse = 4.95</text>\n<text text-anchor=\"middle\" x=\"433\" y=\"-111.8\" font-family=\"Times,serif\" font-size=\"14.00\" fill=\"#000000\">samples = 54</text>\n<text text-anchor=\"middle\" x=\"433\" y=\"-96.8\" font-family=\"Times,serif\" font-size=\"14.00\" fill=\"#000000\">value = 21.159</text>\n</g>\n<!-- 12&#45;&gt;22 -->\n<g id=\"edge12\" class=\"edge\">\n<title>12&#45;&gt;22</title>\n<path fill=\"none\" stroke=\"#000000\" d=\"M340.8589,-192.9465C353.2778,-183.519 366.8783,-173.1946 379.7261,-163.4415\"/>\n<polygon fill=\"#000000\" stroke=\"#000000\" points=\"382.1915,-165.9642 388.0403,-157.13 377.959,-160.3887 382.1915,-165.9642\"/>\n</g>\n<!-- 23 -->\n<g id=\"node14\" class=\"node\">\n<title>23</title>\n<polygon fill=\"none\" stroke=\"#000000\" points=\"420,-53 316,-53 316,0 420,0 420,-53\"/>\n<text text-anchor=\"middle\" x=\"368\" y=\"-37.8\" font-family=\"Times,serif\" font-size=\"14.00\" fill=\"#000000\">mse = 5.196</text>\n<text text-anchor=\"middle\" x=\"368\" y=\"-22.8\" font-family=\"Times,serif\" font-size=\"14.00\" fill=\"#000000\">samples = 23</text>\n<text text-anchor=\"middle\" x=\"368\" y=\"-7.8\" font-family=\"Times,serif\" font-size=\"14.00\" fill=\"#000000\">value = 22.109</text>\n</g>\n<!-- 22&#45;&gt;23 -->\n<g id=\"edge13\" class=\"edge\">\n<title>22&#45;&gt;23</title>\n<path fill=\"none\" stroke=\"#000000\" d=\"M410.0834,-88.9777C404.1006,-80.0954 397.6418,-70.5067 391.623,-61.5711\"/>\n<polygon fill=\"#000000\" stroke=\"#000000\" points=\"394.5067,-59.5871 386.0171,-53.2485 388.7009,-63.4978 394.5067,-59.5871\"/>\n</g>\n<!-- 24 -->\n<g id=\"node15\" class=\"node\">\n<title>24</title>\n<polygon fill=\"none\" stroke=\"#000000\" points=\"542,-53 438,-53 438,0 542,0 542,-53\"/>\n<text text-anchor=\"middle\" x=\"490\" y=\"-37.8\" font-family=\"Times,serif\" font-size=\"14.00\" fill=\"#000000\">mse = 3.603</text>\n<text text-anchor=\"middle\" x=\"490\" y=\"-22.8\" font-family=\"Times,serif\" font-size=\"14.00\" fill=\"#000000\">samples = 31</text>\n<text text-anchor=\"middle\" x=\"490\" y=\"-7.8\" font-family=\"Times,serif\" font-size=\"14.00\" fill=\"#000000\">value = 20.455</text>\n</g>\n<!-- 22&#45;&gt;24 -->\n<g id=\"edge14\" class=\"edge\">\n<title>22&#45;&gt;24</title>\n<path fill=\"none\" stroke=\"#000000\" d=\"M453.0961,-88.9777C458.2344,-80.2786 463.773,-70.9018 468.9575,-62.1247\"/>\n<polygon fill=\"#000000\" stroke=\"#000000\" points=\"472.1281,-63.6387 474.2004,-53.2485 466.101,-60.0786 472.1281,-63.6387\"/>\n</g>\n<!-- 9 -->\n<g id=\"node17\" class=\"node\">\n<title>9</title>\n<polygon fill=\"none\" stroke=\"#000000\" points=\"529,-365 425,-365 425,-297 529,-297 529,-365\"/>\n<text text-anchor=\"middle\" x=\"477\" y=\"-349.8\" font-family=\"Times,serif\" font-size=\"14.00\" fill=\"#000000\">AGE &lt;= 93.9</text>\n<text text-anchor=\"middle\" x=\"477\" y=\"-334.8\" font-family=\"Times,serif\" font-size=\"14.00\" fill=\"#000000\">mse = 11.688</text>\n<text text-anchor=\"middle\" x=\"477\" y=\"-319.8\" font-family=\"Times,serif\" font-size=\"14.00\" fill=\"#000000\">samples = 69</text>\n<text text-anchor=\"middle\" x=\"477\" y=\"-304.8\" font-family=\"Times,serif\" font-size=\"14.00\" fill=\"#000000\">value = 17.303</text>\n</g>\n<!-- 4&#45;&gt;9 -->\n<g id=\"edge16\" class=\"edge\">\n<title>4&#45;&gt;9</title>\n<path fill=\"none\" stroke=\"#000000\" d=\"M477,-400.9465C477,-392.776 477,-383.9318 477,-375.3697\"/>\n<polygon fill=\"#000000\" stroke=\"#000000\" points=\"480.5001,-375.13 477,-365.13 473.5001,-375.13 480.5001,-375.13\"/>\n</g>\n<!-- 10 -->\n<g id=\"node20\" class=\"node\">\n<title>10</title>\n<polygon fill=\"none\" stroke=\"#000000\" points=\"717,-365 599,-365 599,-297 717,-297 717,-365\"/>\n<text text-anchor=\"middle\" x=\"658\" y=\"-349.8\" font-family=\"Times,serif\" font-size=\"14.00\" fill=\"#000000\">LSTAT &lt;= 21.37</text>\n<text text-anchor=\"middle\" x=\"658\" y=\"-334.8\" font-family=\"Times,serif\" font-size=\"14.00\" fill=\"#000000\">mse = 14.248</text>\n<text text-anchor=\"middle\" x=\"658\" y=\"-319.8\" font-family=\"Times,serif\" font-size=\"14.00\" fill=\"#000000\">samples = 56</text>\n<text text-anchor=\"middle\" x=\"658\" y=\"-304.8\" font-family=\"Times,serif\" font-size=\"14.00\" fill=\"#000000\">value = 12.116</text>\n</g>\n<!-- 4&#45;&gt;10 -->\n<g id=\"edge19\" class=\"edge\">\n<title>4&#45;&gt;10</title>\n<path fill=\"none\" stroke=\"#000000\" d=\"M532.7829,-402.948C550.8962,-392.5403 571.1966,-380.876 590.093,-370.0184\"/>\n<polygon fill=\"#000000\" stroke=\"#000000\" points=\"592.0241,-372.9455 598.951,-364.9287 588.5367,-366.876 592.0241,-372.9455\"/>\n</g>\n<!-- 15 -->\n<g id=\"node18\" class=\"node\">\n<title>15</title>\n<polygon fill=\"none\" stroke=\"#000000\" points=\"470,-253.5 366,-253.5 366,-200.5 470,-200.5 470,-253.5\"/>\n<text text-anchor=\"middle\" x=\"418\" y=\"-238.3\" font-family=\"Times,serif\" font-size=\"14.00\" fill=\"#000000\">mse = 7.571</text>\n<text text-anchor=\"middle\" x=\"418\" y=\"-223.3\" font-family=\"Times,serif\" font-size=\"14.00\" fill=\"#000000\">samples = 38</text>\n<text text-anchor=\"middle\" x=\"418\" y=\"-208.3\" font-family=\"Times,serif\" font-size=\"14.00\" fill=\"#000000\">value = 19.053</text>\n</g>\n<!-- 9&#45;&gt;15 -->\n<g id=\"edge17\" class=\"edge\">\n<title>9&#45;&gt;15</title>\n<path fill=\"none\" stroke=\"#000000\" d=\"M457.6812,-296.9465C451.4324,-285.9316 444.4888,-273.6922 438.1793,-262.5703\"/>\n<polygon fill=\"#000000\" stroke=\"#000000\" points=\"441.0362,-260.513 433.0576,-253.5422 434.9477,-263.967 441.0362,-260.513\"/>\n</g>\n<!-- 16 -->\n<g id=\"node19\" class=\"node\">\n<title>16</title>\n<polygon fill=\"none\" stroke=\"#000000\" points=\"592,-253.5 488,-253.5 488,-200.5 592,-200.5 592,-253.5\"/>\n<text text-anchor=\"middle\" x=\"540\" y=\"-238.3\" font-family=\"Times,serif\" font-size=\"14.00\" fill=\"#000000\">mse = 8.38</text>\n<text text-anchor=\"middle\" x=\"540\" y=\"-223.3\" font-family=\"Times,serif\" font-size=\"14.00\" fill=\"#000000\">samples = 31</text>\n<text text-anchor=\"middle\" x=\"540\" y=\"-208.3\" font-family=\"Times,serif\" font-size=\"14.00\" fill=\"#000000\">value = 15.158</text>\n</g>\n<!-- 9&#45;&gt;16 -->\n<g id=\"edge18\" class=\"edge\">\n<title>9&#45;&gt;16</title>\n<path fill=\"none\" stroke=\"#000000\" d=\"M497.6286,-296.9465C504.3678,-285.8215 511.8637,-273.4473 518.6545,-262.237\"/>\n<polygon fill=\"#000000\" stroke=\"#000000\" points=\"521.7339,-263.9087 523.9216,-253.5422 515.7467,-260.2818 521.7339,-263.9087\"/>\n</g>\n<!-- 17 -->\n<g id=\"node21\" class=\"node\">\n<title>17</title>\n<polygon fill=\"none\" stroke=\"#000000\" points=\"706,-253.5 610,-253.5 610,-200.5 706,-200.5 706,-253.5\"/>\n<text text-anchor=\"middle\" x=\"658\" y=\"-238.3\" font-family=\"Times,serif\" font-size=\"14.00\" fill=\"#000000\">mse = 12.162</text>\n<text text-anchor=\"middle\" x=\"658\" y=\"-223.3\" font-family=\"Times,serif\" font-size=\"14.00\" fill=\"#000000\">samples = 26</text>\n<text text-anchor=\"middle\" x=\"658\" y=\"-208.3\" font-family=\"Times,serif\" font-size=\"14.00\" fill=\"#000000\">value = 14.3</text>\n</g>\n<!-- 10&#45;&gt;17 -->\n<g id=\"edge20\" class=\"edge\">\n<title>10&#45;&gt;17</title>\n<path fill=\"none\" stroke=\"#000000\" d=\"M658,-296.9465C658,-286.2621 658,-274.4254 658,-263.5742\"/>\n<polygon fill=\"#000000\" stroke=\"#000000\" points=\"661.5001,-263.5421 658,-253.5422 654.5001,-263.5422 661.5001,-263.5421\"/>\n</g>\n<!-- 18 -->\n<g id=\"node22\" class=\"node\">\n<title>18</title>\n<polygon fill=\"none\" stroke=\"#000000\" points=\"828,-253.5 724,-253.5 724,-200.5 828,-200.5 828,-253.5\"/>\n<text text-anchor=\"middle\" x=\"776\" y=\"-238.3\" font-family=\"Times,serif\" font-size=\"14.00\" fill=\"#000000\">mse = 8.34</text>\n<text text-anchor=\"middle\" x=\"776\" y=\"-223.3\" font-family=\"Times,serif\" font-size=\"14.00\" fill=\"#000000\">samples = 30</text>\n<text text-anchor=\"middle\" x=\"776\" y=\"-208.3\" font-family=\"Times,serif\" font-size=\"14.00\" fill=\"#000000\">value = 10.223</text>\n</g>\n<!-- 10&#45;&gt;18 -->\n<g id=\"edge21\" class=\"edge\">\n<title>10&#45;&gt;18</title>\n<path fill=\"none\" stroke=\"#000000\" d=\"M696.6376,-296.9465C710.0101,-285.1606 724.9734,-271.9726 738.2719,-260.2519\"/>\n<polygon fill=\"#000000\" stroke=\"#000000\" points=\"740.697,-262.7799 745.8849,-253.5422 736.0685,-257.5285 740.697,-262.7799\"/>\n</g>\n<!-- 5 -->\n<g id=\"node24\" class=\"node\">\n<title>5</title>\n<polygon fill=\"none\" stroke=\"#000000\" points=\"647.5,-461.5 550.5,-461.5 550.5,-408.5 647.5,-408.5 647.5,-461.5\"/>\n<text text-anchor=\"middle\" x=\"599\" y=\"-446.3\" font-family=\"Times,serif\" font-size=\"14.00\" fill=\"#000000\">mse = 41.66</text>\n<text text-anchor=\"middle\" x=\"599\" y=\"-431.3\" font-family=\"Times,serif\" font-size=\"14.00\" fill=\"#000000\">samples = 30</text>\n<text text-anchor=\"middle\" x=\"599\" y=\"-416.3\" font-family=\"Times,serif\" font-size=\"14.00\" fill=\"#000000\">value = 32.54</text>\n</g>\n<!-- 2&#45;&gt;5 -->\n<g id=\"edge23\" class=\"edge\">\n<title>2&#45;&gt;5</title>\n<path fill=\"none\" stroke=\"#000000\" d=\"M599,-504.9465C599,-494.2621 599,-482.4254 599,-471.5742\"/>\n<polygon fill=\"#000000\" stroke=\"#000000\" points=\"602.5001,-471.5421 599,-461.5422 595.5001,-471.5422 602.5001,-471.5421\"/>\n</g>\n<!-- 6 -->\n<g id=\"node25\" class=\"node\">\n<title>6</title>\n<polygon fill=\"none\" stroke=\"#000000\" points=\"770,-461.5 666,-461.5 666,-408.5 770,-408.5 770,-461.5\"/>\n<text text-anchor=\"middle\" x=\"718\" y=\"-446.3\" font-family=\"Times,serif\" font-size=\"14.00\" fill=\"#000000\">mse = 18.682</text>\n<text text-anchor=\"middle\" x=\"718\" y=\"-431.3\" font-family=\"Times,serif\" font-size=\"14.00\" fill=\"#000000\">samples = 22</text>\n<text text-anchor=\"middle\" x=\"718\" y=\"-416.3\" font-family=\"Times,serif\" font-size=\"14.00\" fill=\"#000000\">value = 45.541</text>\n</g>\n<!-- 2&#45;&gt;6 -->\n<g id=\"edge24\" class=\"edge\">\n<title>2&#45;&gt;6</title>\n<path fill=\"none\" stroke=\"#000000\" d=\"M637.9651,-504.9465C651.4509,-493.1606 666.5409,-479.9726 679.9521,-468.2519\"/>\n<polygon fill=\"#000000\" stroke=\"#000000\" points=\"682.4031,-470.7582 687.6296,-461.5422 677.7967,-465.4874 682.4031,-470.7582\"/>\n</g>\n</g>\n</svg>\n"
          },
          "metadata": {
            "tags": []
          },
          "execution_count": 40
        }
      ]
    },
    {
      "cell_type": "markdown",
      "metadata": {
        "id": "_j4bAbyTceII",
        "colab_type": "text"
      },
      "source": [
        "### (f) A key reason why DTL has risen again in popularity is the fact that rule or treeoutput is understandable by humans. Explain in English what the patterns are that are represented by the rules you wrote down for problem 2(d).\n",
        "\n",
        "### (g) In a model tree, some leaves may be constants and some may be linear equations. Using your rules from 2(d), explain why this is."
      ]
    },
    {
      "cell_type": "markdown",
      "metadata": {
        "id": "QXOwfbZNceII",
        "colab_type": "text"
      },
      "source": [
        "As mentioned earlier, the pattern here is that as long as the number of samples is low, the performance increases. When we look at this pattern in terms of features, the key features to look out for are RM and LSTAT (as evidenced by those features frequency in the decision tree). The model has determined that as RM goes down, the sample number goes down, meaning performance goes up. This has a directly linear correlation. "
      ]
    },
    {
      "cell_type": "markdown",
      "metadata": {
        "id": "GUzsoY58ceII",
        "colab_type": "text"
      },
      "source": [
        "### (h) Rule size is a key issue if humans are to read and understand DTL output, but ultiamtely we care about how the learned tree/rules perform. An M5PrimeLab model’s performance on the training data (i.e., Ein) can be determined using the m5ptest() function. The function will produce these performance/error statistics: \n",
        "\n",
        "### • MAE: Mean Absolute Error\n",
        "### • MSE: Mean Squared Error\n",
        "### • RMSE: Root Mean Squared Error\n",
        "### • RRMSE: Relative Root Mean Squared Error\n",
        "### • R2: Coefficient of Determination\n",
        "\n",
        "### For this problem, rerun two of your parameter sets from problem 2(a) that resulted in fairly different numbers of resulting rules, and show the output from m5ptest() for each."
      ]
    },
    {
      "cell_type": "code",
      "metadata": {
        "id": "KXanyb15ceIJ",
        "colab_type": "code",
        "colab": {}
      },
      "source": [
        "from sklearn.metrics import mean_absolute_error, mean_squared_error, r2_score\n",
        "from math import sqrt\n",
        "def m5ptest(max_depth, max_leaf, min_samples, min_split):\n",
        "    test1 = DecisionTreeRegressor(max_depth = max_depth, \n",
        "                                  max_leaf_nodes= max_leaf, \n",
        "                                  min_samples_leaf=min_samples, \n",
        "                                  min_samples_split=min_split)\n",
        "    test1.fit(x_train, y_train)\n",
        "\n",
        "    pred = test1.predict(x_test)\n",
        "\n",
        "    print(\"MAE: {}\".format(mean_absolute_error(y_test, pred)))\n",
        "    print(\"MSE: {}\".format(mean_squared_error(y_test, pred)))\n",
        "    print(\"RMSE: {}\".format(sqrt(mean_squared_error(y_test, pred))))\n",
        "    print(\"R2: {}\".format(test1.score(x_test, y_test)))\n",
        "    \n",
        "    return test1\n",
        "\n"
      ],
      "execution_count": 0,
      "outputs": []
    },
    {
      "cell_type": "markdown",
      "metadata": {
        "id": "RA-569aKceIK",
        "colab_type": "text"
      },
      "source": [
        "### (i) Evaluate the testing output shown in the previous problem, and discuss the relationship you found between the number of rules in a model tree and in-sample performance."
      ]
    },
    {
      "cell_type": "code",
      "metadata": {
        "id": "CxsHZ7OTceIL",
        "colab_type": "code",
        "outputId": "87a2ab6e-14e3-4af9-dd2c-08fbc46643d6",
        "colab": {
          "base_uri": "https://localhost:8080/"
        }
      },
      "source": [
        "m5ptest(10, 75, 20, 40)\n",
        "print(\"\\n\")\n",
        "m5ptest(6, 20, 100, 10)"
      ],
      "execution_count": 0,
      "outputs": [
        {
          "output_type": "stream",
          "text": [
            "MAE: 2.9996778918203777\n",
            "MSE: 22.371655631875274\n",
            "RMSE: 4.729868458200003\n",
            "R2: 0.7174287862666112\n",
            "\n",
            "\n",
            "MAE: 4.693137661862991\n",
            "MSE: 41.81719870861068\n",
            "RMSE: 6.466621893122458\n",
            "R2: 0.47181662419358783\n"
          ],
          "name": "stdout"
        },
        {
          "output_type": "execute_result",
          "data": {
            "text/plain": [
              "DecisionTreeRegressor(ccp_alpha=0.0, criterion='mse', max_depth=6,\n",
              "                      max_features=None, max_leaf_nodes=20,\n",
              "                      min_impurity_decrease=0.0, min_impurity_split=None,\n",
              "                      min_samples_leaf=100, min_samples_split=10,\n",
              "                      min_weight_fraction_leaf=0.0, presort='deprecated',\n",
              "                      random_state=None, splitter='best')"
            ]
          },
          "metadata": {
            "tags": []
          },
          "execution_count": 42
        }
      ]
    },
    {
      "cell_type": "markdown",
      "metadata": {
        "id": "BSI04xyQceIM",
        "colab_type": "text"
      },
      "source": [
        "As noted, the model with higher number of samples did worse. There was no difference in the number of rules, only variance in types."
      ]
    },
    {
      "cell_type": "markdown",
      "metadata": {
        "id": "s39SX4uFceIN",
        "colab_type": "text"
      },
      "source": [
        "### (j) Take the parameters from one example used in 2(h), enable agressivePruning, and then get performance stats using m5ptest(). Write down your results, and discuss how aggressive pruning affected rule/tree size and in-sample performance."
      ]
    },
    {
      "cell_type": "markdown",
      "metadata": {
        "id": "8fTfpVCBceIN",
        "colab_type": "text"
      },
      "source": [
        "As mentioned, we cannot agressive prune. However, we can lower the size of the tree even more, and see how that affects the model."
      ]
    },
    {
      "cell_type": "code",
      "metadata": {
        "id": "OV59v-zUceIO",
        "colab_type": "code",
        "outputId": "6e7fd29a-7ea0-45d2-9810-03655aaad536",
        "colab": {
          "base_uri": "https://localhost:8080/",
          "height": 85
        }
      },
      "source": [
        "reg = m5ptest(5, 10, 1, 2)"
      ],
      "execution_count": 0,
      "outputs": [
        {
          "output_type": "stream",
          "text": [
            "MAE: 3.249960861304729\n",
            "MSE: 21.763415186103362\n",
            "RMSE: 4.6651275637546465\n",
            "R2: 0.7251113308145714\n"
          ],
          "name": "stdout"
        }
      ]
    },
    {
      "cell_type": "code",
      "metadata": {
        "id": "OntvOZcMceIQ",
        "colab_type": "code",
        "outputId": "c76e5fd8-9c3b-44d9-900d-c0944a6464cf",
        "colab": {
          "base_uri": "https://localhost:8080/",
          "height": 657
        }
      },
      "source": [
        "housingcol.remove(\"MEDV\")\n",
        "data = export_graphviz(reg, out_file =None, \n",
        "            feature_names =housingcol)\n",
        "housingcol.append(\"MEDV\")\n",
        "graph = graphviz.Source(data)\n",
        "graph\n"
      ],
      "execution_count": 0,
      "outputs": [
        {
          "output_type": "execute_result",
          "data": {
            "text/plain": [
              "<graphviz.files.Source at 0x7efe13ca27f0>"
            ],
            "image/svg+xml": "<?xml version=\"1.0\" encoding=\"UTF-8\" standalone=\"no\"?>\n<!DOCTYPE svg PUBLIC \"-//W3C//DTD SVG 1.1//EN\"\n \"http://www.w3.org/Graphics/SVG/1.1/DTD/svg11.dtd\">\n<!-- Generated by graphviz version 2.40.1 (20161225.0304)\n -->\n<!-- Title: Tree Pages: 1 -->\n<svg width=\"860pt\" height=\"477pt\"\n viewBox=\"0.00 0.00 859.50 477.00\" xmlns=\"http://www.w3.org/2000/svg\" xmlns:xlink=\"http://www.w3.org/1999/xlink\">\n<g id=\"graph0\" class=\"graph\" transform=\"scale(1 1) rotate(0) translate(4 473)\">\n<title>Tree</title>\n<polygon fill=\"#ffffff\" stroke=\"transparent\" points=\"-4,4 -4,-473 855.5,-473 855.5,4 -4,4\"/>\n<!-- 0 -->\n<g id=\"node1\" class=\"node\">\n<title>0</title>\n<polygon fill=\"none\" stroke=\"#000000\" points=\"649.5,-469 545.5,-469 545.5,-401 649.5,-401 649.5,-469\"/>\n<text text-anchor=\"middle\" x=\"597.5\" y=\"-453.8\" font-family=\"Times,serif\" font-size=\"14.00\" fill=\"#000000\">RM &lt;= 6.92</text>\n<text text-anchor=\"middle\" x=\"597.5\" y=\"-438.8\" font-family=\"Times,serif\" font-size=\"14.00\" fill=\"#000000\">mse = 86.673</text>\n<text text-anchor=\"middle\" x=\"597.5\" y=\"-423.8\" font-family=\"Times,serif\" font-size=\"14.00\" fill=\"#000000\">samples = 354</text>\n<text text-anchor=\"middle\" x=\"597.5\" y=\"-408.8\" font-family=\"Times,serif\" font-size=\"14.00\" fill=\"#000000\">value = 22.536</text>\n</g>\n<!-- 1 -->\n<g id=\"node2\" class=\"node\">\n<title>1</title>\n<polygon fill=\"none\" stroke=\"#000000\" points=\"525.5,-365 415.5,-365 415.5,-297 525.5,-297 525.5,-365\"/>\n<text text-anchor=\"middle\" x=\"470.5\" y=\"-349.8\" font-family=\"Times,serif\" font-size=\"14.00\" fill=\"#000000\">LSTAT &lt;= 14.4</text>\n<text text-anchor=\"middle\" x=\"470.5\" y=\"-334.8\" font-family=\"Times,serif\" font-size=\"14.00\" fill=\"#000000\">mse = 40.477</text>\n<text text-anchor=\"middle\" x=\"470.5\" y=\"-319.8\" font-family=\"Times,serif\" font-size=\"14.00\" fill=\"#000000\">samples = 302</text>\n<text text-anchor=\"middle\" x=\"470.5\" y=\"-304.8\" font-family=\"Times,serif\" font-size=\"14.00\" fill=\"#000000\">value = 19.867</text>\n</g>\n<!-- 0&#45;&gt;1 -->\n<g id=\"edge1\" class=\"edge\">\n<title>0&#45;&gt;1</title>\n<path fill=\"none\" stroke=\"#000000\" d=\"M555.9155,-400.9465C544.5127,-391.6088 532.0353,-381.3911 520.2257,-371.7203\"/>\n<polygon fill=\"#000000\" stroke=\"#000000\" points=\"522.1324,-368.7578 512.178,-365.13 517.6974,-374.1736 522.1324,-368.7578\"/>\n<text text-anchor=\"middle\" x=\"514.6549\" y=\"-386.307\" font-family=\"Times,serif\" font-size=\"14.00\" fill=\"#000000\">True</text>\n</g>\n<!-- 2 -->\n<g id=\"node13\" class=\"node\">\n<title>2</title>\n<polygon fill=\"none\" stroke=\"#000000\" points=\"715,-365 618,-365 618,-297 715,-297 715,-365\"/>\n<text text-anchor=\"middle\" x=\"666.5\" y=\"-349.8\" font-family=\"Times,serif\" font-size=\"14.00\" fill=\"#000000\">RM &lt;= 7.433</text>\n<text text-anchor=\"middle\" x=\"666.5\" y=\"-334.8\" font-family=\"Times,serif\" font-size=\"14.00\" fill=\"#000000\">mse = 73.194</text>\n<text text-anchor=\"middle\" x=\"666.5\" y=\"-319.8\" font-family=\"Times,serif\" font-size=\"14.00\" fill=\"#000000\">samples = 52</text>\n<text text-anchor=\"middle\" x=\"666.5\" y=\"-304.8\" font-family=\"Times,serif\" font-size=\"14.00\" fill=\"#000000\">value = 38.04</text>\n</g>\n<!-- 0&#45;&gt;2 -->\n<g id=\"edge12\" class=\"edge\">\n<title>0&#45;&gt;2</title>\n<path fill=\"none\" stroke=\"#000000\" d=\"M620.0932,-400.9465C625.8714,-392.2373 632.1575,-382.7626 638.1834,-373.6801\"/>\n<polygon fill=\"#000000\" stroke=\"#000000\" points=\"641.244,-375.3978 643.8561,-365.13 635.411,-371.5278 641.244,-375.3978\"/>\n<text text-anchor=\"middle\" x=\"648.8134\" y=\"-385.9336\" font-family=\"Times,serif\" font-size=\"14.00\" fill=\"#000000\">False</text>\n</g>\n<!-- 3 -->\n<g id=\"node3\" class=\"node\">\n<title>3</title>\n<polygon fill=\"none\" stroke=\"#000000\" points=\"334.5,-261 230.5,-261 230.5,-193 334.5,-193 334.5,-261\"/>\n<text text-anchor=\"middle\" x=\"282.5\" y=\"-245.8\" font-family=\"Times,serif\" font-size=\"14.00\" fill=\"#000000\">DIS &lt;= 1.385</text>\n<text text-anchor=\"middle\" x=\"282.5\" y=\"-230.8\" font-family=\"Times,serif\" font-size=\"14.00\" fill=\"#000000\">mse = 26.518</text>\n<text text-anchor=\"middle\" x=\"282.5\" y=\"-215.8\" font-family=\"Times,serif\" font-size=\"14.00\" fill=\"#000000\">samples = 177</text>\n<text text-anchor=\"middle\" x=\"282.5\" y=\"-200.8\" font-family=\"Times,serif\" font-size=\"14.00\" fill=\"#000000\">value = 23.318</text>\n</g>\n<!-- 1&#45;&gt;3 -->\n<g id=\"edge2\" class=\"edge\">\n<title>1&#45;&gt;3</title>\n<path fill=\"none\" stroke=\"#000000\" d=\"M415.3641,-300.4993C392.8864,-288.0648 366.8103,-273.6397 343.7423,-260.8787\"/>\n<polygon fill=\"#000000\" stroke=\"#000000\" points=\"345.175,-257.6715 334.7304,-255.8934 341.7866,-263.7967 345.175,-257.6715\"/>\n</g>\n<!-- 4 -->\n<g id=\"node10\" class=\"node\">\n<title>4</title>\n<polygon fill=\"none\" stroke=\"#000000\" points=\"526,-261 415,-261 415,-193 526,-193 526,-261\"/>\n<text text-anchor=\"middle\" x=\"470.5\" y=\"-245.8\" font-family=\"Times,serif\" font-size=\"14.00\" fill=\"#000000\">CRIM &lt;= 6.992</text>\n<text text-anchor=\"middle\" x=\"470.5\" y=\"-230.8\" font-family=\"Times,serif\" font-size=\"14.00\" fill=\"#000000\">mse = 19.488</text>\n<text text-anchor=\"middle\" x=\"470.5\" y=\"-215.8\" font-family=\"Times,serif\" font-size=\"14.00\" fill=\"#000000\">samples = 125</text>\n<text text-anchor=\"middle\" x=\"470.5\" y=\"-200.8\" font-family=\"Times,serif\" font-size=\"14.00\" fill=\"#000000\">value = 14.979</text>\n</g>\n<!-- 1&#45;&gt;4 -->\n<g id=\"edge9\" class=\"edge\">\n<title>1&#45;&gt;4</title>\n<path fill=\"none\" stroke=\"#000000\" d=\"M470.5,-296.9465C470.5,-288.776 470.5,-279.9318 470.5,-271.3697\"/>\n<polygon fill=\"#000000\" stroke=\"#000000\" points=\"474.0001,-271.13 470.5,-261.13 467.0001,-271.13 474.0001,-271.13\"/>\n</g>\n<!-- 7 -->\n<g id=\"node4\" class=\"node\">\n<title>7</title>\n<polygon fill=\"none\" stroke=\"#000000\" points=\"205,-157 86,-157 86,-89 205,-89 205,-157\"/>\n<text text-anchor=\"middle\" x=\"145.5\" y=\"-141.8\" font-family=\"Times,serif\" font-size=\"14.00\" fill=\"#000000\">CRIM &lt;= 10.109</text>\n<text text-anchor=\"middle\" x=\"145.5\" y=\"-126.8\" font-family=\"Times,serif\" font-size=\"14.00\" fill=\"#000000\">mse = 91.577</text>\n<text text-anchor=\"middle\" x=\"145.5\" y=\"-111.8\" font-family=\"Times,serif\" font-size=\"14.00\" fill=\"#000000\">samples = 4</text>\n<text text-anchor=\"middle\" x=\"145.5\" y=\"-96.8\" font-family=\"Times,serif\" font-size=\"14.00\" fill=\"#000000\">value = 44.475</text>\n</g>\n<!-- 3&#45;&gt;7 -->\n<g id=\"edge3\" class=\"edge\">\n<title>3&#45;&gt;7</title>\n<path fill=\"none\" stroke=\"#000000\" d=\"M237.6411,-192.9465C225.2222,-183.519 211.6217,-173.1946 198.7739,-163.4415\"/>\n<polygon fill=\"#000000\" stroke=\"#000000\" points=\"200.541,-160.3887 190.4597,-157.13 196.3085,-165.9642 200.541,-160.3887\"/>\n</g>\n<!-- 8 -->\n<g id=\"node7\" class=\"node\">\n<title>8</title>\n<polygon fill=\"none\" stroke=\"#000000\" points=\"341.5,-157 223.5,-157 223.5,-89 341.5,-89 341.5,-157\"/>\n<text text-anchor=\"middle\" x=\"282.5\" y=\"-141.8\" font-family=\"Times,serif\" font-size=\"14.00\" fill=\"#000000\">LSTAT &lt;= 7.565</text>\n<text text-anchor=\"middle\" x=\"282.5\" y=\"-126.8\" font-family=\"Times,serif\" font-size=\"14.00\" fill=\"#000000\">mse = 14.424</text>\n<text text-anchor=\"middle\" x=\"282.5\" y=\"-111.8\" font-family=\"Times,serif\" font-size=\"14.00\" fill=\"#000000\">samples = 173</text>\n<text text-anchor=\"middle\" x=\"282.5\" y=\"-96.8\" font-family=\"Times,serif\" font-size=\"14.00\" fill=\"#000000\">value = 22.829</text>\n</g>\n<!-- 3&#45;&gt;8 -->\n<g id=\"edge6\" class=\"edge\">\n<title>3&#45;&gt;8</title>\n<path fill=\"none\" stroke=\"#000000\" d=\"M282.5,-192.9465C282.5,-184.776 282.5,-175.9318 282.5,-167.3697\"/>\n<polygon fill=\"#000000\" stroke=\"#000000\" points=\"286.0001,-167.13 282.5,-157.13 279.0001,-167.13 286.0001,-167.13\"/>\n</g>\n<!-- 15 -->\n<g id=\"node5\" class=\"node\">\n<title>15</title>\n<polygon fill=\"none\" stroke=\"#000000\" points=\"89,-53 0,-53 0,0 89,0 89,-53\"/>\n<text text-anchor=\"middle\" x=\"44.5\" y=\"-37.8\" font-family=\"Times,serif\" font-size=\"14.00\" fill=\"#000000\">mse = 0.0</text>\n<text text-anchor=\"middle\" x=\"44.5\" y=\"-22.8\" font-family=\"Times,serif\" font-size=\"14.00\" fill=\"#000000\">samples = 3</text>\n<text text-anchor=\"middle\" x=\"44.5\" y=\"-7.8\" font-family=\"Times,serif\" font-size=\"14.00\" fill=\"#000000\">value = 50.0</text>\n</g>\n<!-- 7&#45;&gt;15 -->\n<g id=\"edge4\" class=\"edge\">\n<title>7&#45;&gt;15</title>\n<path fill=\"none\" stroke=\"#000000\" d=\"M109.8912,-88.9777C100.1155,-79.6376 89.5223,-69.5163 79.766,-60.1947\"/>\n<polygon fill=\"#000000\" stroke=\"#000000\" points=\"82.144,-57.6261 72.4958,-53.2485 77.3083,-62.6873 82.144,-57.6261\"/>\n</g>\n<!-- 16 -->\n<g id=\"node6\" class=\"node\">\n<title>16</title>\n<polygon fill=\"none\" stroke=\"#000000\" points=\"196,-53 107,-53 107,0 196,0 196,-53\"/>\n<text text-anchor=\"middle\" x=\"151.5\" y=\"-37.8\" font-family=\"Times,serif\" font-size=\"14.00\" fill=\"#000000\">mse = &#45;0.0</text>\n<text text-anchor=\"middle\" x=\"151.5\" y=\"-22.8\" font-family=\"Times,serif\" font-size=\"14.00\" fill=\"#000000\">samples = 1</text>\n<text text-anchor=\"middle\" x=\"151.5\" y=\"-7.8\" font-family=\"Times,serif\" font-size=\"14.00\" fill=\"#000000\">value = 27.9</text>\n</g>\n<!-- 7&#45;&gt;16 -->\n<g id=\"edge5\" class=\"edge\">\n<title>7&#45;&gt;16</title>\n<path fill=\"none\" stroke=\"#000000\" d=\"M147.6154,-88.9777C148.1335,-80.6449 148.6902,-71.6903 149.2159,-63.2364\"/>\n<polygon fill=\"#000000\" stroke=\"#000000\" points=\"152.7095,-63.4464 149.8369,-53.2485 145.723,-63.012 152.7095,-63.4464\"/>\n</g>\n<!-- 9 -->\n<g id=\"node8\" class=\"node\">\n<title>9</title>\n<polygon fill=\"none\" stroke=\"#000000\" points=\"329.5,-53 225.5,-53 225.5,0 329.5,0 329.5,-53\"/>\n<text text-anchor=\"middle\" x=\"277.5\" y=\"-37.8\" font-family=\"Times,serif\" font-size=\"14.00\" fill=\"#000000\">mse = 10.642</text>\n<text text-anchor=\"middle\" x=\"277.5\" y=\"-22.8\" font-family=\"Times,serif\" font-size=\"14.00\" fill=\"#000000\">samples = 53</text>\n<text text-anchor=\"middle\" x=\"277.5\" y=\"-7.8\" font-family=\"Times,serif\" font-size=\"14.00\" fill=\"#000000\">value = 26.209</text>\n</g>\n<!-- 8&#45;&gt;9 -->\n<g id=\"edge7\" class=\"edge\">\n<title>8&#45;&gt;9</title>\n<path fill=\"none\" stroke=\"#000000\" d=\"M280.7372,-88.9777C280.3054,-80.6449 279.8415,-71.6903 279.4034,-63.2364\"/>\n<polygon fill=\"#000000\" stroke=\"#000000\" points=\"282.8988,-63.0539 278.8859,-53.2485 275.9082,-63.4162 282.8988,-63.0539\"/>\n</g>\n<!-- 10 -->\n<g id=\"node9\" class=\"node\">\n<title>10</title>\n<polygon fill=\"none\" stroke=\"#000000\" points=\"451.5,-53 347.5,-53 347.5,0 451.5,0 451.5,-53\"/>\n<text text-anchor=\"middle\" x=\"399.5\" y=\"-37.8\" font-family=\"Times,serif\" font-size=\"14.00\" fill=\"#000000\">mse = 8.818</text>\n<text text-anchor=\"middle\" x=\"399.5\" y=\"-22.8\" font-family=\"Times,serif\" font-size=\"14.00\" fill=\"#000000\">samples = 120</text>\n<text text-anchor=\"middle\" x=\"399.5\" y=\"-7.8\" font-family=\"Times,serif\" font-size=\"14.00\" fill=\"#000000\">value = 21.336</text>\n</g>\n<!-- 8&#45;&gt;10 -->\n<g id=\"edge8\" class=\"edge\">\n<title>8&#45;&gt;10</title>\n<path fill=\"none\" stroke=\"#000000\" d=\"M323.7498,-88.9777C335.2961,-79.4545 347.8271,-69.1191 359.311,-59.6473\"/>\n<polygon fill=\"#000000\" stroke=\"#000000\" points=\"361.5816,-62.3115 367.0692,-53.2485 357.1276,-56.9113 361.5816,-62.3115\"/>\n</g>\n<!-- 11 -->\n<g id=\"node11\" class=\"node\">\n<title>11</title>\n<polygon fill=\"none\" stroke=\"#000000\" points=\"463.5,-149.5 359.5,-149.5 359.5,-96.5 463.5,-96.5 463.5,-149.5\"/>\n<text text-anchor=\"middle\" x=\"411.5\" y=\"-134.3\" font-family=\"Times,serif\" font-size=\"14.00\" fill=\"#000000\">mse = 11.688</text>\n<text text-anchor=\"middle\" x=\"411.5\" y=\"-119.3\" font-family=\"Times,serif\" font-size=\"14.00\" fill=\"#000000\">samples = 69</text>\n<text text-anchor=\"middle\" x=\"411.5\" y=\"-104.3\" font-family=\"Times,serif\" font-size=\"14.00\" fill=\"#000000\">value = 17.303</text>\n</g>\n<!-- 4&#45;&gt;11 -->\n<g id=\"edge10\" class=\"edge\">\n<title>4&#45;&gt;11</title>\n<path fill=\"none\" stroke=\"#000000\" d=\"M451.1812,-192.9465C444.9324,-181.9316 437.9888,-169.6922 431.6793,-158.5703\"/>\n<polygon fill=\"#000000\" stroke=\"#000000\" points=\"434.5362,-156.513 426.5576,-149.5422 428.4477,-159.967 434.5362,-156.513\"/>\n</g>\n<!-- 12 -->\n<g id=\"node12\" class=\"node\">\n<title>12</title>\n<polygon fill=\"none\" stroke=\"#000000\" points=\"585.5,-149.5 481.5,-149.5 481.5,-96.5 585.5,-96.5 585.5,-149.5\"/>\n<text text-anchor=\"middle\" x=\"533.5\" y=\"-134.3\" font-family=\"Times,serif\" font-size=\"14.00\" fill=\"#000000\">mse = 14.248</text>\n<text text-anchor=\"middle\" x=\"533.5\" y=\"-119.3\" font-family=\"Times,serif\" font-size=\"14.00\" fill=\"#000000\">samples = 56</text>\n<text text-anchor=\"middle\" x=\"533.5\" y=\"-104.3\" font-family=\"Times,serif\" font-size=\"14.00\" fill=\"#000000\">value = 12.116</text>\n</g>\n<!-- 4&#45;&gt;12 -->\n<g id=\"edge11\" class=\"edge\">\n<title>4&#45;&gt;12</title>\n<path fill=\"none\" stroke=\"#000000\" d=\"M491.1286,-192.9465C497.8678,-181.8215 505.3637,-169.4473 512.1545,-158.237\"/>\n<polygon fill=\"#000000\" stroke=\"#000000\" points=\"515.2339,-159.9087 517.4216,-149.5422 509.2467,-156.2818 515.2339,-159.9087\"/>\n</g>\n<!-- 5 -->\n<g id=\"node14\" class=\"node\">\n<title>5</title>\n<polygon fill=\"none\" stroke=\"#000000\" points=\"729,-261 604,-261 604,-193 729,-193 729,-261\"/>\n<text text-anchor=\"middle\" x=\"666.5\" y=\"-245.8\" font-family=\"Times,serif\" font-size=\"14.00\" fill=\"#000000\">LSTAT &lt;= 12.345</text>\n<text text-anchor=\"middle\" x=\"666.5\" y=\"-230.8\" font-family=\"Times,serif\" font-size=\"14.00\" fill=\"#000000\">mse = 41.66</text>\n<text text-anchor=\"middle\" x=\"666.5\" y=\"-215.8\" font-family=\"Times,serif\" font-size=\"14.00\" fill=\"#000000\">samples = 30</text>\n<text text-anchor=\"middle\" x=\"666.5\" y=\"-200.8\" font-family=\"Times,serif\" font-size=\"14.00\" fill=\"#000000\">value = 32.54</text>\n</g>\n<!-- 2&#45;&gt;5 -->\n<g id=\"edge13\" class=\"edge\">\n<title>2&#45;&gt;5</title>\n<path fill=\"none\" stroke=\"#000000\" d=\"M666.5,-296.9465C666.5,-288.776 666.5,-279.9318 666.5,-271.3697\"/>\n<polygon fill=\"#000000\" stroke=\"#000000\" points=\"670.0001,-271.13 666.5,-261.13 663.0001,-271.13 670.0001,-271.13\"/>\n</g>\n<!-- 6 -->\n<g id=\"node19\" class=\"node\">\n<title>6</title>\n<polygon fill=\"none\" stroke=\"#000000\" points=\"851.5,-253.5 747.5,-253.5 747.5,-200.5 851.5,-200.5 851.5,-253.5\"/>\n<text text-anchor=\"middle\" x=\"799.5\" y=\"-238.3\" font-family=\"Times,serif\" font-size=\"14.00\" fill=\"#000000\">mse = 18.682</text>\n<text text-anchor=\"middle\" x=\"799.5\" y=\"-223.3\" font-family=\"Times,serif\" font-size=\"14.00\" fill=\"#000000\">samples = 22</text>\n<text text-anchor=\"middle\" x=\"799.5\" y=\"-208.3\" font-family=\"Times,serif\" font-size=\"14.00\" fill=\"#000000\">value = 45.541</text>\n</g>\n<!-- 2&#45;&gt;6 -->\n<g id=\"edge18\" class=\"edge\">\n<title>2&#45;&gt;6</title>\n<path fill=\"none\" stroke=\"#000000\" d=\"M710.0492,-296.9465C725.2625,-285.0504 742.3023,-271.726 757.3957,-259.9237\"/>\n<polygon fill=\"#000000\" stroke=\"#000000\" points=\"759.8351,-262.4592 765.5567,-253.5422 755.5231,-256.9449 759.8351,-262.4592\"/>\n</g>\n<!-- 13 -->\n<g id=\"node15\" class=\"node\">\n<title>13</title>\n<polygon fill=\"none\" stroke=\"#000000\" points=\"729.5,-157 603.5,-157 603.5,-89 729.5,-89 729.5,-157\"/>\n<text text-anchor=\"middle\" x=\"666.5\" y=\"-141.8\" font-family=\"Times,serif\" font-size=\"14.00\" fill=\"#000000\">INDUS &lt;= 15.015</text>\n<text text-anchor=\"middle\" x=\"666.5\" y=\"-126.8\" font-family=\"Times,serif\" font-size=\"14.00\" fill=\"#000000\">mse = 24.56</text>\n<text text-anchor=\"middle\" x=\"666.5\" y=\"-111.8\" font-family=\"Times,serif\" font-size=\"14.00\" fill=\"#000000\">samples = 28</text>\n<text text-anchor=\"middle\" x=\"666.5\" y=\"-96.8\" font-family=\"Times,serif\" font-size=\"14.00\" fill=\"#000000\">value = 33.693</text>\n</g>\n<!-- 5&#45;&gt;13 -->\n<g id=\"edge14\" class=\"edge\">\n<title>5&#45;&gt;13</title>\n<path fill=\"none\" stroke=\"#000000\" d=\"M666.5,-192.9465C666.5,-184.776 666.5,-175.9318 666.5,-167.3697\"/>\n<polygon fill=\"#000000\" stroke=\"#000000\" points=\"670.0001,-167.13 666.5,-157.13 663.0001,-167.13 670.0001,-167.13\"/>\n</g>\n<!-- 14 -->\n<g id=\"node18\" class=\"node\">\n<title>14</title>\n<polygon fill=\"none\" stroke=\"#000000\" points=\"837,-149.5 748,-149.5 748,-96.5 837,-96.5 837,-149.5\"/>\n<text text-anchor=\"middle\" x=\"792.5\" y=\"-134.3\" font-family=\"Times,serif\" font-size=\"14.00\" fill=\"#000000\">mse = 1.96</text>\n<text text-anchor=\"middle\" x=\"792.5\" y=\"-119.3\" font-family=\"Times,serif\" font-size=\"14.00\" fill=\"#000000\">samples = 2</text>\n<text text-anchor=\"middle\" x=\"792.5\" y=\"-104.3\" font-family=\"Times,serif\" font-size=\"14.00\" fill=\"#000000\">value = 16.4</text>\n</g>\n<!-- 5&#45;&gt;14 -->\n<g id=\"edge17\" class=\"edge\">\n<title>5&#45;&gt;14</title>\n<path fill=\"none\" stroke=\"#000000\" d=\"M707.7571,-192.9465C722.1697,-181.0504 738.3127,-167.726 752.6117,-155.9237\"/>\n<polygon fill=\"#000000\" stroke=\"#000000\" points=\"754.8589,-158.6071 760.3431,-149.5422 750.4029,-153.2086 754.8589,-158.6071\"/>\n</g>\n<!-- 17 -->\n<g id=\"node16\" class=\"node\">\n<title>17</title>\n<polygon fill=\"none\" stroke=\"#000000\" points=\"658.5,-53 554.5,-53 554.5,0 658.5,0 658.5,-53\"/>\n<text text-anchor=\"middle\" x=\"606.5\" y=\"-37.8\" font-family=\"Times,serif\" font-size=\"14.00\" fill=\"#000000\">mse = 13.15</text>\n<text text-anchor=\"middle\" x=\"606.5\" y=\"-22.8\" font-family=\"Times,serif\" font-size=\"14.00\" fill=\"#000000\">samples = 26</text>\n<text text-anchor=\"middle\" x=\"606.5\" y=\"-7.8\" font-family=\"Times,serif\" font-size=\"14.00\" fill=\"#000000\">value = 32.773</text>\n</g>\n<!-- 13&#45;&gt;17 -->\n<g id=\"edge15\" class=\"edge\">\n<title>13&#45;&gt;17</title>\n<path fill=\"none\" stroke=\"#000000\" d=\"M645.3462,-88.9777C639.8805,-80.187 633.9846,-70.7044 628.4778,-61.8477\"/>\n<polygon fill=\"#000000\" stroke=\"#000000\" points=\"631.3837,-59.8927 623.1312,-53.2485 625.4391,-63.5889 631.3837,-59.8927\"/>\n</g>\n<!-- 18 -->\n<g id=\"node17\" class=\"node\">\n<title>18</title>\n<polygon fill=\"none\" stroke=\"#000000\" points=\"774,-53 677,-53 677,0 774,0 774,-53\"/>\n<text text-anchor=\"middle\" x=\"725.5\" y=\"-37.8\" font-family=\"Times,serif\" font-size=\"14.00\" fill=\"#000000\">mse = 18.923</text>\n<text text-anchor=\"middle\" x=\"725.5\" y=\"-22.8\" font-family=\"Times,serif\" font-size=\"14.00\" fill=\"#000000\">samples = 2</text>\n<text text-anchor=\"middle\" x=\"725.5\" y=\"-7.8\" font-family=\"Times,serif\" font-size=\"14.00\" fill=\"#000000\">value = 45.65</text>\n</g>\n<!-- 13&#45;&gt;18 -->\n<g id=\"edge16\" class=\"edge\">\n<title>13&#45;&gt;18</title>\n<path fill=\"none\" stroke=\"#000000\" d=\"M687.3012,-88.9777C692.6758,-80.187 698.4735,-70.7044 703.8885,-61.8477\"/>\n<polygon fill=\"#000000\" stroke=\"#000000\" points=\"706.9158,-63.6059 709.146,-53.2485 700.9436,-59.9545 706.9158,-63.6059\"/>\n</g>\n</g>\n</svg>\n"
          },
          "metadata": {
            "tags": []
          },
          "execution_count": 44
        }
      ]
    },
    {
      "cell_type": "markdown",
      "metadata": {
        "id": "YfjP-PKGceIU",
        "colab_type": "text"
      },
      "source": [
        "As shown, the size of the tree is far smaller than above, and is able to get better results. This means that a smaller tree is able to positively impact performance."
      ]
    },
    {
      "cell_type": "markdown",
      "metadata": {
        "id": "4ao8B0HSceIU",
        "colab_type": "text"
      },
      "source": [
        "### (k) So far we have looked at performance on the training data (Ein), but our ultimate concern is of course Eout. M5PrimeLab can perform cross validation with its m5pcv() function. (Note that m5pcv() use seems somewhat unnecessarily difficult to use, so you will probably have to spend some time figuring it out—look at the M5PrimeLab manual!)\n",
        "### For this problem, rerun the two parameter sets you used in problem 2(h), figure out how to run 10-fold cross validation (the default k value) on each of them using m5pcv(), and show the performance outputs from m5pcv() for each."
      ]
    },
    {
      "cell_type": "code",
      "metadata": {
        "id": "MevVF3GuceIV",
        "colab_type": "code",
        "outputId": "d6769dbb-db8c-4ff8-fe55-9bfb1799813d",
        "colab": {
          "base_uri": "https://localhost:8080/",
          "height": 51
        }
      },
      "source": [
        "crossval = DecisionTreeRegressor(max_depth = 10, \n",
        "                                  max_leaf_nodes= 75, \n",
        "                                  min_samples_leaf=20, \n",
        "                                  min_samples_split=40)\n",
        "\n",
        "score = cross_validate(crossval, x_train, y_train, cv=10)\n",
        "\n",
        "print(\"Accuracy(First Set): %0.2f (+/- %0.2f)\" % (score[\"test_score\"].mean(), score[\"test_score\"].std() * 2))\n",
        "\n",
        "crossval = DecisionTreeRegressor(max_depth = 6, \n",
        "                                  max_leaf_nodes= 20, \n",
        "                                  min_samples_leaf=100, \n",
        "                                  min_samples_split=10)\n",
        "\n",
        "score = cross_validate(crossval, x_train, y_train, cv=10)\n",
        "\n",
        "\n",
        "print(\"Accuracy(Second Set): %0.2f (+/- %0.2f)\" % (score[\"test_score\"].mean(), score[\"test_score\"].std() * 2))\n"
      ],
      "execution_count": 0,
      "outputs": [
        {
          "output_type": "stream",
          "text": [
            "Accuracy(First Set): 0.72 (+/- 0.28)\n",
            "Accuracy(Second Set): 0.46 (+/- 0.23)\n"
          ],
          "name": "stdout"
        }
      ]
    },
    {
      "cell_type": "markdown",
      "metadata": {
        "id": "eC6HZWQ9ceIX",
        "colab_type": "text"
      },
      "source": [
        "### (l) Discuss the results from cross validation in the previous problem. In particular, how does estimated out-of-sample performance change with the number of rules? Is there evidence that the larger rule set suffered from overfitting? Explain.\n",
        "\n",
        "### (m) Experiment with different parameters sets and use cross validation to try to come up with smallest possible ruleset with “good” out-sample performance. Provide details of your best choice: parameters, number of rules that result, in-sample performance, and cross validation estimate of out-sample performance.\n"
      ]
    },
    {
      "cell_type": "markdown",
      "metadata": {
        "id": "auE4mKWQceIX",
        "colab_type": "text"
      },
      "source": [
        "Thoughout this notebook, we have experimented with different parameter sets. GridSearchCV took a large variety of different sets and used it to come up with the best choice based on it's options. However, despite that, we found that the options that were provided were very inaccurate, and that the best model was one who's parameters weren't even considered (This was due to depth and min samples being too high). This model did not suffer from overfitting, as it did not ever reach 100% accuracy. The performance generated by CV was very similar to what was generated with in-sample data, however the variance was much larger. "
      ]
    }
  ]
}