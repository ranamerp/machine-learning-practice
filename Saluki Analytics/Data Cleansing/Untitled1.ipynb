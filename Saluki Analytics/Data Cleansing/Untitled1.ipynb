{
 "cells": [
  {
   "cell_type": "code",
   "execution_count": 1,
   "metadata": {},
   "outputs": [
    {
     "name": "stdout",
     "output_type": "stream",
     "text": [
      "Collecting pybrain3\n",
      "  Downloading https://files.pythonhosted.org/packages/b9/7a/8f3a749200ec534dfdef8707cc6acc1b742b7c69ebdfded65a67d9045d7b/PyBrain3-3.0.4-py3-none-any.whl (403kB)\n",
      "Installing collected packages: pybrain3\n",
      "Successfully installed pybrain3-3.0.4\n"
     ]
    }
   ],
   "source": [
    "!pip install pybrain3"
   ]
  },
  {
   "cell_type": "code",
   "execution_count": null,
   "metadata": {},
   "outputs": [],
   "source": []
  }
 ],
 "metadata": {
  "kernelspec": {
   "display_name": "Python 3",
   "language": "python",
   "name": "python3"
  },
  "language_info": {
   "codemirror_mode": {
    "name": "ipython",
    "version": 3
   },
   "file_extension": ".py",
   "mimetype": "text/x-python",
   "name": "python",
   "nbconvert_exporter": "python",
   "pygments_lexer": "ipython3",
   "version": "3.7.3"
  }
 },
 "nbformat": 4,
 "nbformat_minor": 2
}
