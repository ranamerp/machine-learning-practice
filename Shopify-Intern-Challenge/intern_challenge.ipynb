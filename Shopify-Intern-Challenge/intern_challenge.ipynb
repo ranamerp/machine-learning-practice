{
  "nbformat": 4,
  "nbformat_minor": 0,
  "metadata": {
    "language_info": {
      "codemirror_mode": {
        "name": "ipython",
        "version": 3
      },
      "file_extension": ".py",
      "mimetype": "text/x-python",
      "name": "python",
      "nbconvert_exporter": "python",
      "pygments_lexer": "ipython3",
      "version": "3.8.3-final"
    },
    "orig_nbformat": 2,
    "kernelspec": {
      "name": "python38364bit018a34a9adc24d1a9d1660c2d8b18cf7",
      "display_name": "Python 3.8.3 64-bit"
    },
    "colab": {
      "name": "intern challenge.ipynb",
      "provenance": [],
      "collapsed_sections": [],
      "include_colab_link": true
    }
  },
  "cells": [
    {
      "cell_type": "markdown",
      "metadata": {
        "id": "view-in-github",
        "colab_type": "text"
      },
      "source": [
        "<a href=\"https://colab.research.google.com/github/ranamerp/machine-learning-practice/blob/master/Shopify-Intern-Challenge/intern_challenge.ipynb\" target=\"_parent\"><img src=\"https://colab.research.google.com/assets/colab-badge.svg\" alt=\"Open In Colab\"/></a>"
      ]
    },
    {
      "cell_type": "code",
      "metadata": {
        "id": "6BzUb1kUOpSM",
        "colab_type": "code",
        "colab": {
          "base_uri": "https://localhost:8080/",
          "height": 34
        },
        "outputId": "81b430cc-780b-4499-bfb4-04d50457b819"
      },
      "source": [
        "from google.colab import drive\n",
        "drive.mount('/content/drive')"
      ],
      "execution_count": 25,
      "outputs": [
        {
          "output_type": "stream",
          "text": [
            "Drive already mounted at /content/drive; to attempt to forcibly remount, call drive.mount(\"/content/drive\", force_remount=True).\n"
          ],
          "name": "stdout"
        }
      ]
    },
    {
      "cell_type": "code",
      "metadata": {
        "id": "50N0CMOZMGZs",
        "colab_type": "code",
        "colab": {}
      },
      "source": [
        "import pandas as pd\n",
        "import numpy as np\n"
      ],
      "execution_count": 1,
      "outputs": []
    },
    {
      "cell_type": "code",
      "metadata": {
        "id": "NnIFmHAoMGZw",
        "colab_type": "code",
        "colab": {}
      },
      "source": [
        "#df = pd.read_csv(\"dataset.csv\")\n",
        "df = pd.read_csv(\"/content/drive/My Drive/dataset.csv\")"
      ],
      "execution_count": 2,
      "outputs": []
    },
    {
      "cell_type": "markdown",
      "metadata": {
        "id": "wSAET0pqHkeg",
        "colab_type": "text"
      },
      "source": [
        "The goal is to calculate average order value. This could be defined by the average volume of orders. First, we want to look at the average volume for each shop, and see if we can identify any trends. \n"
      ]
    },
    {
      "cell_type": "code",
      "metadata": {
        "tags": [],
        "id": "8T9ugQq2MGZz",
        "colab_type": "code",
        "colab": {
          "base_uri": "https://localhost:8080/",
          "height": 204
        },
        "outputId": "5502e759-3716-40b7-bc5d-a81eb7d82a0c"
      },
      "source": [
        "dfs = []\n",
        "df = df.sort_values(by = [\"created_at\"], ascending=True)\n",
        "\n",
        "for index, i in df.groupby('shop_id'):\n",
        "    dfs.append(i)\n",
        "\n",
        "df.head()"
      ],
      "execution_count": 10,
      "outputs": [
        {
          "output_type": "execute_result",
          "data": {
            "text/html": [
              "<div>\n",
              "<style scoped>\n",
              "    .dataframe tbody tr th:only-of-type {\n",
              "        vertical-align: middle;\n",
              "    }\n",
              "\n",
              "    .dataframe tbody tr th {\n",
              "        vertical-align: top;\n",
              "    }\n",
              "\n",
              "    .dataframe thead th {\n",
              "        text-align: right;\n",
              "    }\n",
              "</style>\n",
              "<table border=\"1\" class=\"dataframe\">\n",
              "  <thead>\n",
              "    <tr style=\"text-align: right;\">\n",
              "      <th></th>\n",
              "      <th>order_id</th>\n",
              "      <th>shop_id</th>\n",
              "      <th>user_id</th>\n",
              "      <th>order_amount</th>\n",
              "      <th>total_items</th>\n",
              "      <th>payment_method</th>\n",
              "      <th>created_at</th>\n",
              "    </tr>\n",
              "  </thead>\n",
              "  <tbody>\n",
              "    <tr>\n",
              "      <th>1862</th>\n",
              "      <td>1863</td>\n",
              "      <td>39</td>\n",
              "      <td>738</td>\n",
              "      <td>536</td>\n",
              "      <td>4</td>\n",
              "      <td>cash</td>\n",
              "      <td>2017-03-01 0:08:09</td>\n",
              "    </tr>\n",
              "    <tr>\n",
              "      <th>1741</th>\n",
              "      <td>1742</td>\n",
              "      <td>39</td>\n",
              "      <td>910</td>\n",
              "      <td>268</td>\n",
              "      <td>2</td>\n",
              "      <td>cash</td>\n",
              "      <td>2017-03-01 0:10:19</td>\n",
              "    </tr>\n",
              "    <tr>\n",
              "      <th>3228</th>\n",
              "      <td>3229</td>\n",
              "      <td>97</td>\n",
              "      <td>912</td>\n",
              "      <td>324</td>\n",
              "      <td>2</td>\n",
              "      <td>cash</td>\n",
              "      <td>2017-03-01 0:14:12</td>\n",
              "    </tr>\n",
              "    <tr>\n",
              "      <th>1267</th>\n",
              "      <td>1268</td>\n",
              "      <td>80</td>\n",
              "      <td>798</td>\n",
              "      <td>290</td>\n",
              "      <td>2</td>\n",
              "      <td>credit_card</td>\n",
              "      <td>2017-03-01 0:19:31</td>\n",
              "    </tr>\n",
              "    <tr>\n",
              "      <th>2689</th>\n",
              "      <td>2690</td>\n",
              "      <td>49</td>\n",
              "      <td>799</td>\n",
              "      <td>258</td>\n",
              "      <td>2</td>\n",
              "      <td>credit_card</td>\n",
              "      <td>2017-03-01 0:22:25</td>\n",
              "    </tr>\n",
              "  </tbody>\n",
              "</table>\n",
              "</div>"
            ],
            "text/plain": [
              "      order_id  shop_id  ...  payment_method          created_at\n",
              "1862      1863       39  ...            cash  2017-03-01 0:08:09\n",
              "1741      1742       39  ...            cash  2017-03-01 0:10:19\n",
              "3228      3229       97  ...            cash  2017-03-01 0:14:12\n",
              "1267      1268       80  ...     credit_card  2017-03-01 0:19:31\n",
              "2689      2690       49  ...     credit_card  2017-03-01 0:22:25\n",
              "\n",
              "[5 rows x 7 columns]"
            ]
          },
          "metadata": {
            "tags": []
          },
          "execution_count": 10
        }
      ]
    },
    {
      "cell_type": "code",
      "metadata": {
        "tags": [],
        "id": "rpmFE0UnMGZ3",
        "colab_type": "code",
        "colab": {
          "base_uri": "https://localhost:8080/",
          "height": 765
        },
        "outputId": "f0df8b68-5508-488f-af2d-1acc39f86fd4"
      },
      "source": [
        "import matplotlib.pyplot as plt\n",
        "\n",
        "means = []\n",
        "for i in dfs:\n",
        "    mean = i[\"order_amount\"].mean()\n",
        "    shopid = i[\"shop_id\"].mean()\n",
        "    means.append([shopid,mean])\n",
        "\n",
        "means = pd.DataFrame(means)\n",
        "fig = plt.figure(figsize = (30,15))\n",
        "\n",
        "\n",
        "x_ticks = np.arange(1, 100, 1)\n",
        "plt.xticks(x_ticks)\n",
        "\n",
        "plt.bar(means[0], means[1], width= 0.5)"
      ],
      "execution_count": 4,
      "outputs": [
        {
          "output_type": "execute_result",
          "data": {
            "text/plain": [
              "<BarContainer object of 100 artists>"
            ]
          },
          "metadata": {
            "tags": []
          },
          "execution_count": 4
        },
        {
          "output_type": "display_data",
          "data": {
            "image/png": "[encoded data removed]",
            "text/plain": [
              "<Figure size 2160x1080 with 1 Axes>"
            ]
          },
          "metadata": {
            "tags": [],
            "needs_background": "light"
          }
        }
      ]
    },
    {
      "cell_type": "markdown",
      "metadata": {
        "id": "O6GelBDwP-yM",
        "colab_type": "text"
      },
      "source": [
        "Clearly, there are a few outliers here, which are having a large impact on the AOV. Let's take a look at some of those and see what the issues are. "
      ]
    },
    {
      "cell_type": "code",
      "metadata": {
        "id": "cLyIXuuSMGZ7",
        "colab_type": "code",
        "colab": {
          "base_uri": "https://localhost:8080/",
          "height": 289
        },
        "outputId": "bd960e3c-bbb6-4c04-929a-b539a6020595"
      },
      "source": [
        "\n",
        "print(\"Max: \")\n",
        "print(dfs[41][\"order_amount\"].max())\n",
        "print(dfs[41][\"total_items\"].max())\n",
        "print(\"\")\n",
        "print(\"Min: \")\n",
        "print(dfs[41][\"order_amount\"].min())\n",
        "print(dfs[41][\"total_items\"].min())\n",
        "print(\"\")\n",
        "print(\"\")\n",
        "\n",
        "print(\"Max: \")\n",
        "print(dfs[77][\"order_amount\"].max())\n",
        "print(dfs[77][\"total_items\"].max())\n",
        "print(\"\")\n",
        "print(\"Min: \")\n",
        "print(dfs[77][\"order_amount\"].min())\n",
        "print(dfs[77][\"total_items\"].min())\n"
      ],
      "execution_count": 9,
      "outputs": [
        {
          "output_type": "stream",
          "text": [
            "Max: \n",
            "704000\n",
            "2000\n",
            "\n",
            "Min: \n",
            "352\n",
            "1\n",
            "\n",
            "\n",
            "Max: \n",
            "154350\n",
            "6\n",
            "\n",
            "Min: \n",
            "25725\n",
            "1\n"
          ],
          "name": "stdout"
        }
      ]
    },
    {
      "cell_type": "markdown",
      "metadata": {
        "id": "II4z2-OhCpGU",
        "colab_type": "text"
      },
      "source": [
        "As we can see, the maxes and mins of these certain shops are extreme outliers. Shop 78 is selling a single sneaker for $25K, and shop 42 manages to sell 2000 sneakers at once. Assuming this data is correct, then we can look at a new way of determining average order value. One way we could try to solve this is to calculate average number of orders. This will allow us to gauge number of sneakers bought across all the shops. "
      ]
    },
    {
      "cell_type": "code",
      "metadata": {
        "id": "rAyD_CH4FFiM",
        "colab_type": "code",
        "colab": {
          "base_uri": "https://localhost:8080/",
          "height": 776
        },
        "outputId": "cdb18f21-578a-496b-9944-96db825f73f0"
      },
      "source": [
        "items = []\n",
        "for i in dfs:\n",
        "    mean = i[\"total_items\"].mean()\n",
        "    shopid = i[\"shop_id\"].mean()\n",
        "    items.append([shopid,mean])\n",
        "\n",
        "means = pd.DataFrame(items)\n",
        "fig = plt.figure(figsize = (30,15))\n",
        "\n",
        "\n",
        "x_ticks = np.arange(1, 100, 1)\n",
        "plt.xticks(x_ticks)\n",
        "\n",
        "plt.bar(means[0], means[1], width= 0.5)\n",
        "\n",
        "average = means[1].mean()\n",
        "print(\"Average Shoes Bought:\" , average)"
      ],
      "execution_count": 17,
      "outputs": [
        {
          "output_type": "stream",
          "text": [
            "Average Shoes Bought: 8.652863083878737\n"
          ],
          "name": "stdout"
        },
        {
          "output_type": "display_data",
          "data": {
            "image/png": "[encoded data removed]",
            "text/plain": [
              "<Figure size 2160x1080 with 1 Axes>"
            ]
          },
          "metadata": {
            "tags": [],
            "needs_background": "light"
          }
        }
      ]
    },
    {
      "cell_type": "markdown",
      "metadata": {
        "id": "B59nLAr6GRZY",
        "colab_type": "text"
      },
      "source": [
        "Here we can see that shop 42 is still an outlier, but the average amount of shoes bought in a 30 day period is much more reasonable."
      ]
    },
    {
      "cell_type": "markdown",
      "metadata": {
        "id": "ymVzlJ3nGhFM",
        "colab_type": "text"
      },
      "source": [
        "# a) Think about what could be going wrong with our calculation. Think about a better way to evaluate this data. \n",
        "\n",
        "We found that the primary issue with this dataset was that the price values were so heavily skewed in certain shops that the AOV was skewed. We recognized that there was a chance that this data was accurate, so that made us think about other ways to quantify this data. \n",
        "\n",
        "# b) What metric would you report for this dataset?\n",
        "The method that we decided was to gauge average amount of item bought. \n",
        "\n",
        "# c) What is its value?\n",
        "8.652863083878737\n",
        "\n"
      ]
    }
  ]
}