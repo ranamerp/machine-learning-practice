{
 "metadata": {
  "language_info": {
   "codemirror_mode": {
    "name": "ipython",
    "version": 3
   },
   "file_extension": ".py",
   "mimetype": "text/x-python",
   "name": "python",
   "nbconvert_exporter": "python",
   "pygments_lexer": "ipython3",
   "version": "3.7.6-final"
  },
  "orig_nbformat": 2,
  "kernelspec": {
   "name": "python_defaultSpec_1599083363295",
   "display_name": "Python 3.7.6 64-bit ('ranam': virtualenv)"
  }
 },
 "nbformat": 4,
 "nbformat_minor": 2,
 "cells": [
  {
   "cell_type": "code",
   "execution_count": 1,
   "metadata": {},
   "outputs": [],
   "source": [
    "import requests\n",
    "from bs4 import BeautifulSoup\n",
    "import pandas as pd\n",
    "import re\n",
    "from datetime import date\n",
    "import os"
   ]
  },
  {
   "cell_type": "code",
   "execution_count": 16,
   "metadata": {},
   "outputs": [],
   "source": [
    "result = requests.get(\"https://energy.siu.edu/green-roof-team/\")\n",
    "\n",
    "soup = BeautifulSoup(result.content, 'html.parser')"
   ]
  },
  {
   "cell_type": "code",
   "execution_count": 7,
   "metadata": {
    "tags": []
   },
   "outputs": [],
   "source": [
    "#get sidebar links\n",
    "def getLinks(soup):\n",
    "    links = []\n",
    "    for tag in soup.findAll(\"li\", class_=\"active-trail\"):\n",
    "        for href in tag.findAll(\"a\", href=True):\n",
    "            if href['href'] not in links:\n",
    "                links.append(href['href'])\n",
    "\n",
    "    return links"
   ]
  },
  {
   "cell_type": "code",
   "execution_count": 5,
   "metadata": {
    "tags": []
   },
   "outputs": [],
   "source": [
    "#getTexts\n",
    "def getText(soup):\n",
    "    for i in soup.findAll(\"p\"):\n",
    "        if(\"Last Updated\" in i.getText()):\n",
    "            text = i.getText()\n",
    "\n",
    "    sep = \"\\n\"       \n",
    "    update = text.split(sep,1)[0]\n",
    "    return update\n"
   ]
  },
  {
   "cell_type": "code",
   "execution_count": 6,
   "metadata": {},
   "outputs": [],
   "source": [
    "#getSoup\n",
    "def getSoup(request):\n",
    "    return BeautifulSoup(request.content, 'html.parser')\n",
    "\n"
   ]
  },
  {
   "cell_type": "code",
   "execution_count": 13,
   "metadata": {},
   "outputs": [],
   "source": [
    "def getRequest(link):\n",
    "    return requests.get(link)"
   ]
  },
  {
   "cell_type": "code",
   "execution_count": 64,
   "metadata": {
    "tags": []
   },
   "outputs": [],
   "source": [
    "result = requests.get(\"https://energy.siu.edu/green-roof-team/\")\n",
    "\n",
    "soup = BeautifulSoup(result.content, 'html.parser')\n",
    "\n",
    "links = getLinks(soup)\n",
    "updates = []\n",
    "for i in links:\n",
    "    link = \"https://energy.siu.edu/green-roof-team/{}\".format(i)\n",
    "    request = getRequest(link)\n",
    "    soup = getSoup(request)\n",
    "    update = [i.split(\"/index.php\")[0], getText(soup)]\n",
    "    if update not in updates:\n",
    "        updates.append(update)\n",
    "    newlinks = getLinks(soup)\n",
    "    for new in newlinks:\n",
    "        if new in links:\n",
    "            pass\n",
    "        else:\n",
    "            newlink = link.split(\"index.php\", 1)[0]  + new\n",
    "            request = getRequest(newlink)\n",
    "            soup = getSoup(request)\n",
    "            update = getText(soup)\n",
    "            if update not in updates:\n",
    "                updates.append([new.split(\".php\")[0], update])\n",
    "\n",
    "\n"
   ]
  },
  {
   "cell_type": "code",
   "execution_count": 71,
   "metadata": {},
   "outputs": [],
   "source": [
    "updatedata = pd.DataFrame(updates, columns=[\"Name\", \"Time\"])\n",
    "updatedata = updatedata.set_index(\"Name\")\n",
    "path = \"updatedata.csv\"\n",
    "if os.path.exists(path):\n",
    "    olddata = pd.read_csv(\"updatedata.csv\").set_index(\"Name\")\n",
    "    olddata = olddata.merge(updatedata, on=[\"Name\", \"Time\"])\n",
    "    olddata.to_csv(\"updatedata.csv\")\n",
    "else:\n",
    "    updatedata.to_csv(\"updatedata.csv\")\n"
   ]
  }
 ]
}